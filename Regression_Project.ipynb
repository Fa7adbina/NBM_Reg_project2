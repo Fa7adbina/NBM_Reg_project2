{
 "cells": [
  {
   "cell_type": "code",
   "execution_count": 1,
   "id": "5f9c4861",
   "metadata": {},
   "outputs": [],
   "source": [
    "from bs4 import BeautifulSoup\n",
    "import requests\n",
    "import re\n",
    "import pandas as pd"
   ]
  },
  {
   "cell_type": "code",
   "execution_count": 2,
   "id": "2e8eeff1",
   "metadata": {},
   "outputs": [],
   "source": [
    "links = [\"https://web.archive.org/web/20190524134324/https://socialblade.com/youtube/channel/UCqJNTGwKmgMCwfYDbnz514Q/monthly\",\n",
    "        \"https://web.archive.org/web/20190524171902/https://socialblade.com/youtube/user/mmoshaya/monthly\",\n",
    "        \"https://web.archive.org/web/20190525094206/https://socialblade.com/youtube/user/banderitax/monthly\",\n",
    "        \"https://web.archive.org/web/20190524075036/https://socialblade.com/youtube/user/arabgamesnetwork/monthly\",\n",
    "        \"https://web.archive.org/web/20190830014628/https://socialblade.com/youtube/channel/UCBzrJ1zGf9-0cd5-n7sBraQ/monthly\"]"
   ]
  },
  {
   "cell_type": "code",
   "execution_count": 3,
   "id": "98fa41dd",
   "metadata": {},
   "outputs": [],
   "source": [
    "res = [requests.get(link) for link in links]"
   ]
  },
  {
   "cell_type": "code",
   "execution_count": 4,
   "id": "fbc53fd5",
   "metadata": {},
   "outputs": [],
   "source": [
    "# save req to html file\n",
    "# for i,r in enumerate(res):\n",
    "#     open(\"req\"+str(i)+\".html\",\"w\",encoding=\"UTF-8\").write(r.text)"
   ]
  },
  {
   "cell_type": "code",
   "execution_count": 5,
   "id": "2afb24e9",
   "metadata": {},
   "outputs": [],
   "source": [
    "data = [re.findall(\"[0-9]+-[0-9]+-[0-9]+,[0-9]+\",r.text) for r in res]\n",
    "# data = re.findall(\"[0-9]+-[0-9]+-[0-9]+,[0-9]+\",res[0].text)"
   ]
  },
  {
   "cell_type": "raw",
   "id": "88cd3dfa",
   "metadata": {},
   "source": [
    "data"
   ]
  },
  {
   "cell_type": "code",
   "execution_count": 6,
   "id": "8a364b30",
   "metadata": {},
   "outputs": [
    {
     "data": {
      "text/html": [
       "<div>\n",
       "<style scoped>\n",
       "    .dataframe tbody tr th:only-of-type {\n",
       "        vertical-align: middle;\n",
       "    }\n",
       "\n",
       "    .dataframe tbody tr th {\n",
       "        vertical-align: top;\n",
       "    }\n",
       "\n",
       "    .dataframe thead th {\n",
       "        text-align: right;\n",
       "    }\n",
       "</style>\n",
       "<table border=\"1\" class=\"dataframe\">\n",
       "  <thead>\n",
       "    <tr style=\"text-align: right;\">\n",
       "      <th></th>\n",
       "      <th>0</th>\n",
       "      <th>1</th>\n",
       "      <th>2</th>\n",
       "      <th>3</th>\n",
       "      <th>4</th>\n",
       "      <th>5</th>\n",
       "      <th>6</th>\n",
       "      <th>7</th>\n",
       "      <th>8</th>\n",
       "      <th>9</th>\n",
       "      <th>...</th>\n",
       "      <th>4429</th>\n",
       "      <th>4430</th>\n",
       "      <th>4431</th>\n",
       "      <th>4432</th>\n",
       "      <th>4433</th>\n",
       "      <th>4434</th>\n",
       "      <th>4435</th>\n",
       "      <th>4436</th>\n",
       "      <th>4437</th>\n",
       "      <th>4438</th>\n",
       "    </tr>\n",
       "  </thead>\n",
       "  <tbody>\n",
       "    <tr>\n",
       "      <th>0</th>\n",
       "      <td>2018-04-09,339</td>\n",
       "      <td>2018-04-10,442</td>\n",
       "      <td>2018-04-11,285</td>\n",
       "      <td>2018-04-12,159</td>\n",
       "      <td>2018-04-13,170</td>\n",
       "      <td>2018-04-14,158</td>\n",
       "      <td>2018-04-15,149</td>\n",
       "      <td>2018-04-17,191</td>\n",
       "      <td>2018-04-18,66</td>\n",
       "      <td>2018-04-19,1239</td>\n",
       "      <td>...</td>\n",
       "      <td>None</td>\n",
       "      <td>None</td>\n",
       "      <td>None</td>\n",
       "      <td>None</td>\n",
       "      <td>None</td>\n",
       "      <td>None</td>\n",
       "      <td>None</td>\n",
       "      <td>None</td>\n",
       "      <td>None</td>\n",
       "      <td>None</td>\n",
       "    </tr>\n",
       "    <tr>\n",
       "      <th>1</th>\n",
       "      <td>2016-05-26,2568</td>\n",
       "      <td>2016-05-27,3704</td>\n",
       "      <td>2016-05-28,3400</td>\n",
       "      <td>2016-05-29,3171</td>\n",
       "      <td>2016-05-30,2636</td>\n",
       "      <td>2016-05-31,3538</td>\n",
       "      <td>2016-06-01,2645</td>\n",
       "      <td>2016-06-02,2138</td>\n",
       "      <td>2016-06-03,2919</td>\n",
       "      <td>2016-06-04,2364</td>\n",
       "      <td>...</td>\n",
       "      <td>2018-07-1,274750963</td>\n",
       "      <td>2018-08-1,279739083</td>\n",
       "      <td>2018-09-1,271529995</td>\n",
       "      <td>2018-10-1,282858167</td>\n",
       "      <td>2018-11-1,256306609</td>\n",
       "      <td>2018-12-1,269835796</td>\n",
       "      <td>2019-01-1,301547172</td>\n",
       "      <td>2019-02-1,243406741</td>\n",
       "      <td>2019-03-1,288955385</td>\n",
       "      <td>2019-04-1,256322959</td>\n",
       "    </tr>\n",
       "    <tr>\n",
       "      <th>2</th>\n",
       "      <td>2016-05-27,2</td>\n",
       "      <td>2016-05-28,4</td>\n",
       "      <td>2016-05-29,3</td>\n",
       "      <td>2016-05-30,3</td>\n",
       "      <td>2016-05-31,30</td>\n",
       "      <td>2016-06-01,1</td>\n",
       "      <td>2016-06-02,9</td>\n",
       "      <td>2016-06-03,10</td>\n",
       "      <td>2016-06-04,12</td>\n",
       "      <td>2016-06-05,5</td>\n",
       "      <td>...</td>\n",
       "      <td>2018-12-1,35068975</td>\n",
       "      <td>2019-01-1,48560510</td>\n",
       "      <td>2019-02-1,40188801</td>\n",
       "      <td>2019-03-1,46266672</td>\n",
       "      <td>2019-04-1,50285331</td>\n",
       "      <td>None</td>\n",
       "      <td>None</td>\n",
       "      <td>None</td>\n",
       "      <td>None</td>\n",
       "      <td>None</td>\n",
       "    </tr>\n",
       "    <tr>\n",
       "      <th>3</th>\n",
       "      <td>2016-05-26,1167</td>\n",
       "      <td>2016-05-27,3491</td>\n",
       "      <td>2016-05-28,3877</td>\n",
       "      <td>2016-05-29,2562</td>\n",
       "      <td>2016-05-30,2092</td>\n",
       "      <td>2016-05-31,1794</td>\n",
       "      <td>2016-06-01,1973</td>\n",
       "      <td>2016-06-02,1289</td>\n",
       "      <td>2016-06-03,1141</td>\n",
       "      <td>2016-06-04,987</td>\n",
       "      <td>...</td>\n",
       "      <td>2018-07-1,41178723</td>\n",
       "      <td>2018-08-1,50373064</td>\n",
       "      <td>2018-09-1,40887734</td>\n",
       "      <td>2018-10-1,33538296</td>\n",
       "      <td>2018-11-1,44601336</td>\n",
       "      <td>2018-12-1,64190140</td>\n",
       "      <td>2019-01-1,71906739</td>\n",
       "      <td>2019-02-1,66263559</td>\n",
       "      <td>2019-03-1,92191927</td>\n",
       "      <td>2019-04-1,86467595</td>\n",
       "    </tr>\n",
       "    <tr>\n",
       "      <th>4</th>\n",
       "      <td>2016-08-31,781</td>\n",
       "      <td>2016-09-01,187</td>\n",
       "      <td>2016-09-02,789</td>\n",
       "      <td>2016-09-03,338</td>\n",
       "      <td>2016-09-04,547</td>\n",
       "      <td>2016-09-05,980</td>\n",
       "      <td>2016-09-06,322</td>\n",
       "      <td>2016-09-07,2414</td>\n",
       "      <td>2016-09-08,1579</td>\n",
       "      <td>2016-09-09,4305</td>\n",
       "      <td>...</td>\n",
       "      <td>None</td>\n",
       "      <td>None</td>\n",
       "      <td>None</td>\n",
       "      <td>None</td>\n",
       "      <td>None</td>\n",
       "      <td>None</td>\n",
       "      <td>None</td>\n",
       "      <td>None</td>\n",
       "      <td>None</td>\n",
       "      <td>None</td>\n",
       "    </tr>\n",
       "  </tbody>\n",
       "</table>\n",
       "<p>5 rows × 4439 columns</p>\n",
       "</div>"
      ],
      "text/plain": [
       "              0                1                2                3     \\\n",
       "0   2018-04-09,339   2018-04-10,442   2018-04-11,285   2018-04-12,159   \n",
       "1  2016-05-26,2568  2016-05-27,3704  2016-05-28,3400  2016-05-29,3171   \n",
       "2     2016-05-27,2     2016-05-28,4     2016-05-29,3     2016-05-30,3   \n",
       "3  2016-05-26,1167  2016-05-27,3491  2016-05-28,3877  2016-05-29,2562   \n",
       "4   2016-08-31,781   2016-09-01,187   2016-09-02,789   2016-09-03,338   \n",
       "\n",
       "              4                5                6                7     \\\n",
       "0   2018-04-13,170   2018-04-14,158   2018-04-15,149   2018-04-17,191   \n",
       "1  2016-05-30,2636  2016-05-31,3538  2016-06-01,2645  2016-06-02,2138   \n",
       "2    2016-05-31,30     2016-06-01,1     2016-06-02,9    2016-06-03,10   \n",
       "3  2016-05-30,2092  2016-05-31,1794  2016-06-01,1973  2016-06-02,1289   \n",
       "4   2016-09-04,547   2016-09-05,980   2016-09-06,322  2016-09-07,2414   \n",
       "\n",
       "              8                9     ...                 4429  \\\n",
       "0    2018-04-18,66  2018-04-19,1239  ...                 None   \n",
       "1  2016-06-03,2919  2016-06-04,2364  ...  2018-07-1,274750963   \n",
       "2    2016-06-04,12     2016-06-05,5  ...   2018-12-1,35068975   \n",
       "3  2016-06-03,1141   2016-06-04,987  ...   2018-07-1,41178723   \n",
       "4  2016-09-08,1579  2016-09-09,4305  ...                 None   \n",
       "\n",
       "                  4430                 4431                 4432  \\\n",
       "0                 None                 None                 None   \n",
       "1  2018-08-1,279739083  2018-09-1,271529995  2018-10-1,282858167   \n",
       "2   2019-01-1,48560510   2019-02-1,40188801   2019-03-1,46266672   \n",
       "3   2018-08-1,50373064   2018-09-1,40887734   2018-10-1,33538296   \n",
       "4                 None                 None                 None   \n",
       "\n",
       "                  4433                 4434                 4435  \\\n",
       "0                 None                 None                 None   \n",
       "1  2018-11-1,256306609  2018-12-1,269835796  2019-01-1,301547172   \n",
       "2   2019-04-1,50285331                 None                 None   \n",
       "3   2018-11-1,44601336   2018-12-1,64190140   2019-01-1,71906739   \n",
       "4                 None                 None                 None   \n",
       "\n",
       "                  4436                 4437                 4438  \n",
       "0                 None                 None                 None  \n",
       "1  2019-02-1,243406741  2019-03-1,288955385  2019-04-1,256322959  \n",
       "2                 None                 None                 None  \n",
       "3   2019-02-1,66263559   2019-03-1,92191927   2019-04-1,86467595  \n",
       "4                 None                 None                 None  \n",
       "\n",
       "[5 rows x 4439 columns]"
      ]
     },
     "execution_count": 6,
     "metadata": {},
     "output_type": "execute_result"
    }
   ],
   "source": [
    "pd.DataFrame(data)"
   ]
  },
  {
   "cell_type": "markdown",
   "id": "4d12555a",
   "metadata": {},
   "source": [
    "## needs to check it \n"
   ]
  },
  {
   "cell_type": "code",
   "execution_count": 7,
   "id": "9cfb18a5",
   "metadata": {},
   "outputs": [],
   "source": [
    "with open('req0.html') as page:\n",
    "    html = page.read()\n",
    "soup = BeautifulSoup(html, 'lxml')"
   ]
  },
  {
   "cell_type": "code",
   "execution_count": 8,
   "id": "b3c08f20",
   "metadata": {},
   "outputs": [],
   "source": [
    "#print(soup.prettify())"
   ]
  },
  {
   "cell_type": "code",
   "execution_count": 9,
   "id": "b1f6bcbc",
   "metadata": {},
   "outputs": [],
   "source": [
    "# up_string = soup.find_all(text=re.compile('Up'))\n",
    "# up_string"
   ]
  },
  {
   "cell_type": "code",
   "execution_count": 10,
   "id": "f391d73a",
   "metadata": {
    "scrolled": true
   },
   "outputs": [],
   "source": [
    "# rows = [row for row in soup.find_all(\"span\",class_=\"YouTubeUserTopLight\")]\n",
    "# rows"
   ]
  },
  {
   "cell_type": "code",
   "execution_count": 11,
   "id": "7d3a533e",
   "metadata": {},
   "outputs": [],
   "source": [
    "# soup.find_all(\"span\",class_=\"YouTubeUserTopLight\")[0].text"
   ]
  },
  {
   "cell_type": "code",
   "execution_count": 12,
   "id": "4b82022e",
   "metadata": {},
   "outputs": [],
   "source": [
    "# rows = [row for row in soup.find_all(\"span\",style=\"font-weight: bold;\")] \n",
    "# rows[0:6]"
   ]
  },
  {
   "cell_type": "code",
   "execution_count": 13,
   "id": "317971ca",
   "metadata": {},
   "outputs": [
    {
     "name": "stdout",
     "output_type": "stream",
     "text": [
      "['Uploads', 'Subscribers', 'Video Views', 'Country', 'Channel Type ', 'User Created']\n"
     ]
    }
   ],
   "source": [
    "list_columns=[]\n",
    "for i in soup.find_all(\"span\",class_=\"YouTubeUserTopLight\"):\n",
    "        list_columns.append(i.get_text())\n",
    "print(list_columns)"
   ]
  },
  {
   "cell_type": "code",
   "execution_count": 14,
   "id": "b47ca2a0",
   "metadata": {},
   "outputs": [
    {
     "name": "stdout",
     "output_type": "stream",
     "text": [
      "['68', '1,487,168', '137,034,617', 'SA', '', 'Dec 1st, 2017']\n"
     ]
    }
   ],
   "source": [
    "list_req0=[]\n",
    "for i in soup.find_all(\"span\",style=\"font-weight: bold;\"):\n",
    "        list_req0.append(i.get_text())\n",
    "print(list_req0)"
   ]
  }
 ],
 "metadata": {
  "kernelspec": {
   "display_name": "Python 3",
   "language": "python",
   "name": "python3"
  },
  "language_info": {
   "codemirror_mode": {
    "name": "ipython",
    "version": 3
   },
   "file_extension": ".py",
   "mimetype": "text/x-python",
   "name": "python",
   "nbconvert_exporter": "python",
   "pygments_lexer": "ipython3",
   "version": "3.8.8"
  }
 },
 "nbformat": 4,
 "nbformat_minor": 5
}
