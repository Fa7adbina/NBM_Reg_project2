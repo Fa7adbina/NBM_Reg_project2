{
 "cells": [
  {
   "cell_type": "code",
   "execution_count": 1,
   "id": "5f9c4861",
   "metadata": {},
   "outputs": [],
   "source": [
    "from bs4 import BeautifulSoup\n",
    "import requests\n",
    "import re\n",
    "import pandas as pd\n",
    "import numpy as np\n",
    "import os"
   ]
  },
  {
   "cell_type": "code",
   "execution_count": 2,
   "id": "2e8eeff1",
   "metadata": {},
   "outputs": [],
   "source": [
    "links = [\"https://web.archive.org/web/20190524171902/https://socialblade.com/youtube/user/mmoshaya/monthly\",\n",
    "        \"https://web.archive.org/web/20190524075036/https://socialblade.com/youtube/user/arabgamesnetwork/monthly\",\n",
    "         \"https://web.archive.org/web/20190830014628/https://socialblade.com/youtube/channel/UCBzrJ1zGf9-0cd5-n7sBraQ/monthly\",\n",
    "        \"https://web.archive.org/web/20190524134324/https://socialblade.com/youtube/channel/UCqJNTGwKmgMCwfYDbnz514Q/monthly\",\n",
    "        \"https://web.archive.org/web/20190525094206/https://socialblade.com/youtube/user/banderitax/monthly\",\n",
    "        \"https://web.archive.org/web/20190830022605/https://socialblade.com/youtube/channel/UCPvLEc3la6Q2MdlCXzKRRPg/monthly\"]"
   ]
  },
  {
   "cell_type": "code",
   "execution_count": 3,
   "id": "98fa41dd",
   "metadata": {},
   "outputs": [],
   "source": [
    "# save req to html file if not found\n",
    "for i in range(len(links)):\n",
    "    if f\"req{i}.html\" not in os.listdir('.'):\n",
    "        open(\"req\"+str(i)+\".html\",\"w\",encoding=\"UTF-8\").write(requests.get(links[i]).text)"
   ]
  },
  {
   "cell_type": "code",
   "execution_count": 4,
   "id": "01b1dc51",
   "metadata": {},
   "outputs": [],
   "source": [
    "# read files from  disk - files name: req0.html .... req4.html\n",
    "resText = [open(\"req\"+str(i)+\".html\",\"r\",encoding=\"UTF-8\").read() for i in range(len(links))]"
   ]
  },
  {
   "cell_type": "code",
   "execution_count": 5,
   "id": "5ffd33b9",
   "metadata": {},
   "outputs": [],
   "source": [
    "def getChartData(soup,chart_name):\n",
    "    ds_element = soup.find(\"div\",{\"id\":chart_name}).next_element.next_element.text\n",
    "    regex = \"[0-9]+-[0-9]+-[0-9]+,[0-9]+\"\n",
    "    dailySub = [i.split(\",\") for i in re.findall(regex,ds_element)]\n",
    "    return pd.DataFrame(dailySub,columns=[\"Date\",chart_name])"
   ]
  },
  {
   "cell_type": "code",
   "execution_count": 6,
   "id": "cec78580",
   "metadata": {},
   "outputs": [],
   "source": [
    "def getDailySubscribers(soup):\n",
    "    '''\n",
    "    return dataframe contains date and dailySubscribers for the given soup\n",
    "    '''\n",
    "    return getChartData(soup,\"DailySubscribers\")"
   ]
  },
  {
   "cell_type": "code",
   "execution_count": 7,
   "id": "9df6e42b",
   "metadata": {},
   "outputs": [],
   "source": [
    "def getTotalSubscribers(soup):\n",
    "    '''\n",
    "    return dataframe contains date and totalSubscribers for the given soup\n",
    "    '''\n",
    "    return getChartData(soup,\"TotalSubscribers\")"
   ]
  },
  {
   "cell_type": "code",
   "execution_count": 8,
   "id": "96f99380",
   "metadata": {},
   "outputs": [],
   "source": [
    "def getDailyVideoViews(soup):\n",
    "    '''\n",
    "    return dataframe contains date and dailyVideoViews for the given soup\n",
    "    '''\n",
    "    return getChartData(soup,\"DailyVideoViews\")"
   ]
  },
  {
   "cell_type": "code",
   "execution_count": 9,
   "id": "c06bae99",
   "metadata": {},
   "outputs": [],
   "source": [
    "def getTotalVideoViews(soup):\n",
    "    '''\n",
    "    return dataframe contains date and totalVideoViews for the given soup\n",
    "    '''\n",
    "    return getChartData(soup,\"TotalVideoViews\")"
   ]
  },
  {
   "cell_type": "code",
   "execution_count": 10,
   "id": "bbc1361e",
   "metadata": {},
   "outputs": [],
   "source": [
    "def getAllCharts(soup):\n",
    "    '''\n",
    "    return dataframe contains date, dailySubscribers, totalSubscribers, dailyVideoViews and totalVideoViews for the given soup\n",
    "    '''\n",
    "    ds = getDailySubscribers(soup)\n",
    "    ts = getTotalSubscribers(soup)\n",
    "    dv = getDailyVideoViews(soup)\n",
    "    tv = getTotalVideoViews(soup)\n",
    "    return ds.merge(ts,on=\"Date\").merge(dv,on=\"Date\").merge(tv,on=\"Date\")"
   ]
  },
  {
   "cell_type": "code",
   "execution_count": 11,
   "id": "484ae4b6",
   "metadata": {},
   "outputs": [],
   "source": [
    "soups = [BeautifulSoup(r,\"html5lib\") for r in resText]"
   ]
  },
  {
   "cell_type": "code",
   "execution_count": 12,
   "id": "6c4c9b91",
   "metadata": {},
   "outputs": [],
   "source": [
    "channels_df = [getAllCharts(soup) for soup in soups]"
   ]
  },
  {
   "cell_type": "code",
   "execution_count": 13,
   "id": "9b530963",
   "metadata": {},
   "outputs": [],
   "source": [
    "top1_df = channels_df[0] # top 1 channel df\n",
    "top2_df = channels_df[1] # top 2 channel df\n",
    "top3_df = channels_df[2] # top 3 channel df\n",
    "# top4_df = channels_df[3] # top 4 channel df شلناها لان عدد الروز قليل\n",
    "top4_df = channels_df[4] # top 4 channel df\n",
    "top5_df = channels_df[5] # top 4 channel df"
   ]
  },
  {
   "cell_type": "code",
   "execution_count": 14,
   "id": "2d3c87f0",
   "metadata": {},
   "outputs": [
    {
     "name": "stdout",
     "output_type": "stream",
     "text": [
      "the total number of rows is 5314\n"
     ]
    }
   ],
   "source": [
    "# total number of rows\n",
    "total = 0\n",
    "for c in [top1_df,top2_df,top3_df,top4_df,top5_df]:\n",
    "    total += len(c)\n",
    "print(f\"the total number of rows is {total}\")"
   ]
  },
  {
   "cell_type": "code",
   "execution_count": 15,
   "id": "5c9c7ce8",
   "metadata": {},
   "outputs": [
    {
     "name": "stdout",
     "output_type": "stream",
     "text": [
      "<class 'pandas.core.frame.DataFrame'>\n",
      "Int64Index: 1086 entries, 0 to 1085\n",
      "Data columns (total 5 columns):\n",
      " #   Column            Non-Null Count  Dtype \n",
      "---  ------            --------------  ----- \n",
      " 0   Date              1086 non-null   object\n",
      " 1   DailySubscribers  1086 non-null   object\n",
      " 2   TotalSubscribers  1086 non-null   object\n",
      " 3   DailyVideoViews   1086 non-null   object\n",
      " 4   TotalVideoViews   1086 non-null   object\n",
      "dtypes: object(5)\n",
      "memory usage: 50.9+ KB\n",
      "None\n",
      "<class 'pandas.core.frame.DataFrame'>\n",
      "Int64Index: 1086 entries, 0 to 1085\n",
      "Data columns (total 5 columns):\n",
      " #   Column            Non-Null Count  Dtype \n",
      "---  ------            --------------  ----- \n",
      " 0   Date              1086 non-null   object\n",
      " 1   DailySubscribers  1086 non-null   object\n",
      " 2   TotalSubscribers  1086 non-null   object\n",
      " 3   DailyVideoViews   1086 non-null   object\n",
      " 4   TotalVideoViews   1086 non-null   object\n",
      "dtypes: object(5)\n",
      "memory usage: 50.9+ KB\n",
      "None\n",
      "<class 'pandas.core.frame.DataFrame'>\n",
      "Int64Index: 1075 entries, 0 to 1074\n",
      "Data columns (total 5 columns):\n",
      " #   Column            Non-Null Count  Dtype \n",
      "---  ------            --------------  ----- \n",
      " 0   Date              1075 non-null   object\n",
      " 1   DailySubscribers  1075 non-null   object\n",
      " 2   TotalSubscribers  1075 non-null   object\n",
      " 3   DailyVideoViews   1075 non-null   object\n",
      " 4   TotalVideoViews   1075 non-null   object\n",
      "dtypes: object(5)\n",
      "memory usage: 50.4+ KB\n",
      "None\n",
      "<class 'pandas.core.frame.DataFrame'>\n",
      "Int64Index: 1081 entries, 0 to 1080\n",
      "Data columns (total 5 columns):\n",
      " #   Column            Non-Null Count  Dtype \n",
      "---  ------            --------------  ----- \n",
      " 0   Date              1081 non-null   object\n",
      " 1   DailySubscribers  1081 non-null   object\n",
      " 2   TotalSubscribers  1081 non-null   object\n",
      " 3   DailyVideoViews   1081 non-null   object\n",
      " 4   TotalVideoViews   1081 non-null   object\n",
      "dtypes: object(5)\n",
      "memory usage: 50.7+ KB\n",
      "None\n",
      "<class 'pandas.core.frame.DataFrame'>\n",
      "Int64Index: 986 entries, 0 to 985\n",
      "Data columns (total 5 columns):\n",
      " #   Column            Non-Null Count  Dtype \n",
      "---  ------            --------------  ----- \n",
      " 0   Date              986 non-null    object\n",
      " 1   DailySubscribers  986 non-null    object\n",
      " 2   TotalSubscribers  986 non-null    object\n",
      " 3   DailyVideoViews   986 non-null    object\n",
      " 4   TotalVideoViews   986 non-null    object\n",
      "dtypes: object(5)\n",
      "memory usage: 46.2+ KB\n",
      "None\n"
     ]
    }
   ],
   "source": [
    "for c in [top1_df,top2_df,top3_df,top4_df,top5_df]:\n",
    "    print(c.info())"
   ]
  },
  {
   "cell_type": "markdown",
   "id": "4d12555a",
   "metadata": {},
   "source": [
    "## needs to check it \n"
   ]
  },
  {
   "cell_type": "code",
   "execution_count": null,
   "id": "9cfb18a5",
   "metadata": {},
   "outputs": [],
   "source": [
    "with open('req0.html') as page:\n",
    "    html = page.read()\n",
    "soup = BeautifulSoup(html, 'lxml')"
   ]
  },
  {
   "cell_type": "code",
   "execution_count": null,
   "id": "b3c08f20",
   "metadata": {},
   "outputs": [],
   "source": [
    "#print(soup.prettify())"
   ]
  },
  {
   "cell_type": "code",
   "execution_count": null,
   "id": "b1f6bcbc",
   "metadata": {},
   "outputs": [],
   "source": [
    "# up_string = soup.find_all(text=re.compile('Up'))\n",
    "# up_string"
   ]
  },
  {
   "cell_type": "code",
   "execution_count": null,
   "id": "f391d73a",
   "metadata": {
    "scrolled": true
   },
   "outputs": [],
   "source": [
    "# rows = [row for row in soup.find_all(\"span\",class_=\"YouTubeUserTopLight\")]\n",
    "# rows"
   ]
  },
  {
   "cell_type": "code",
   "execution_count": null,
   "id": "7d3a533e",
   "metadata": {},
   "outputs": [],
   "source": [
    "# soup.find_all(\"span\",class_=\"YouTubeUserTopLight\")[0].text"
   ]
  },
  {
   "cell_type": "code",
   "execution_count": null,
   "id": "4b82022e",
   "metadata": {},
   "outputs": [],
   "source": [
    "# rows = [row for row in soup.find_all(\"span\",style=\"font-weight: bold;\")] \n",
    "# rows[0:6]"
   ]
  },
  {
   "cell_type": "code",
   "execution_count": null,
   "id": "317971ca",
   "metadata": {},
   "outputs": [],
   "source": [
    "list_columns=[]\n",
    "for i in soup.find_all(\"span\",class_=\"YouTubeUserTopLight\"):\n",
    "        list_columns.append(i.get_text())\n",
    "print(list_columns)"
   ]
  },
  {
   "cell_type": "code",
   "execution_count": null,
   "id": "b47ca2a0",
   "metadata": {},
   "outputs": [],
   "source": [
    "list_req0=[]\n",
    "for i in soup.find_all(\"span\",style=\"font-weight: bold;\"):\n",
    "        list_req0.append(i.get_text())\n",
    "print(list_req0)"
   ]
  }
 ],
 "metadata": {
  "kernelspec": {
   "display_name": "Python 3",
   "language": "python",
   "name": "python3"
  },
  "language_info": {
   "codemirror_mode": {
    "name": "ipython",
    "version": 3
   },
   "file_extension": ".py",
   "mimetype": "text/x-python",
   "name": "python",
   "nbconvert_exporter": "python",
   "pygments_lexer": "ipython3",
   "version": "3.8.8"
  }
 },
 "nbformat": 4,
 "nbformat_minor": 5
}
