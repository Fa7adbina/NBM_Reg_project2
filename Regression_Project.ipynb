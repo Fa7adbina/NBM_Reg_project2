{
 "cells": [
  {
   "cell_type": "code",
   "execution_count": 1,
   "id": "5f9c4861",
   "metadata": {},
   "outputs": [
    {
     "ename": "ModuleNotFoundError",
     "evalue": "No module named 'prophet'",
     "output_type": "error",
     "traceback": [
      "\u001b[1;31m---------------------------------------------------------------------------\u001b[0m",
      "\u001b[1;31mModuleNotFoundError\u001b[0m                       Traceback (most recent call last)",
      "\u001b[1;32m<ipython-input-1-d0f5200f4e3d>\u001b[0m in \u001b[0;36m<module>\u001b[1;34m\u001b[0m\n\u001b[0;32m      5\u001b[0m \u001b[1;32mimport\u001b[0m \u001b[0mnumpy\u001b[0m \u001b[1;32mas\u001b[0m \u001b[0mnp\u001b[0m\u001b[1;33m\u001b[0m\u001b[1;33m\u001b[0m\u001b[0m\n\u001b[0;32m      6\u001b[0m \u001b[1;32mimport\u001b[0m \u001b[0mos\u001b[0m\u001b[1;33m\u001b[0m\u001b[1;33m\u001b[0m\u001b[0m\n\u001b[1;32m----> 7\u001b[1;33m \u001b[1;32mfrom\u001b[0m \u001b[0mprophet\u001b[0m \u001b[1;32mimport\u001b[0m \u001b[0mProphet\u001b[0m\u001b[1;33m\u001b[0m\u001b[1;33m\u001b[0m\u001b[0m\n\u001b[0m\u001b[0;32m      8\u001b[0m \u001b[1;32mimport\u001b[0m \u001b[0mjson\u001b[0m\u001b[1;33m\u001b[0m\u001b[1;33m\u001b[0m\u001b[0m\n\u001b[0;32m      9\u001b[0m \u001b[1;32mfrom\u001b[0m \u001b[0mdatetime\u001b[0m \u001b[1;32mimport\u001b[0m \u001b[0mdatetime\u001b[0m\u001b[1;33m\u001b[0m\u001b[1;33m\u001b[0m\u001b[0m\n",
      "\u001b[1;31mModuleNotFoundError\u001b[0m: No module named 'prophet'"
     ]
    }
   ],
   "source": [
    "from bs4 import BeautifulSoup\n",
    "import requests\n",
    "import re\n",
    "import pandas as pd\n",
    "import numpy as np\n",
    "import os\n",
    "from prophet import Prophet\n",
    "import json\n",
    "from datetime import datetime"
   ]
  },
  {
   "cell_type": "code",
   "execution_count": null,
   "id": "6952142a",
   "metadata": {},
   "outputs": [],
   "source": [
    "from http.cookiejar import CookieJar"
   ]
  },
  {
   "cell_type": "code",
   "execution_count": null,
   "id": "2e8eeff1",
   "metadata": {},
   "outputs": [],
   "source": [
    "links = [\"https://web.archive.org/web/20190524171902/https://socialblade.com/youtube/user/mmoshaya/monthly\",\n",
    "        \"https://web.archive.org/web/20190524075036/https://socialblade.com/youtube/user/arabgamesnetwork/monthly\",\n",
    "         \"https://web.archive.org/web/20190830014628/https://socialblade.com/youtube/channel/UCBzrJ1zGf9-0cd5-n7sBraQ/monthly\",\n",
    "        \"https://web.archive.org/web/20190524134324/https://socialblade.com/youtube/channel/UCqJNTGwKmgMCwfYDbnz514Q/monthly\",\n",
    "        \"https://web.archive.org/web/20190525094206/https://socialblade.com/youtube/user/banderitax/monthly\",\n",
    "        \"https://web.archive.org/web/20190830022605/https://socialblade.com/youtube/channel/UCPvLEc3la6Q2MdlCXzKRRPg/monthly\"]"
   ]
  },
  {
   "cell_type": "code",
   "execution_count": null,
   "id": "98fa41dd",
   "metadata": {},
   "outputs": [],
   "source": [
    "# save req to html file if not found\n",
    "for i in range(len(links)):\n",
    "    if f\"req{i}.html\" not in os.listdir('.'):\n",
    "        open(\"req\"+str(i)+\".html\",\"w\",encoding=\"UTF-8\").write(requests.get(links[i]).text)"
   ]
  },
  {
   "cell_type": "code",
   "execution_count": null,
   "id": "01b1dc51",
   "metadata": {},
   "outputs": [],
   "source": [
    "# read files from  disk - files name: req0.html .... req4.html\n",
    "resText = [open(\"req\"+str(i)+\".html\",\"r\",encoding=\"UTF-8\").read() for i in range(len(links))]"
   ]
  },
  {
   "cell_type": "code",
   "execution_count": null,
   "id": "5ffd33b9",
   "metadata": {},
   "outputs": [],
   "source": [
    "def getChartData(soup,chart_name):\n",
    "    ds_element = soup.find(\"div\",{\"id\":chart_name}).next_element.next_element.text\n",
    "    regex = \"[0-9]+-[0-9]+-[0-9]+,[0-9]+\"\n",
    "    dailySub = [i.split(\",\") for i in re.findall(regex,ds_element)]\n",
    "    Date = pd.Series([i[0] for i in dailySub])\n",
    "    count = pd.Series([i[1] for i in dailySub])\n",
    "    return pd.DataFrame({\"Date\":Date.astype(np.datetime64),\n",
    "                         chart_name:count.astype(np.int64)\n",
    "                        })"
   ]
  },
  {
   "cell_type": "code",
   "execution_count": null,
   "id": "cec78580",
   "metadata": {},
   "outputs": [],
   "source": [
    "def getDailySubscribers(soup):\n",
    "    '''\n",
    "    return dataframe contains date and dailySubscribers for the given soup\n",
    "    '''\n",
    "    return getChartData(soup,\"DailySubscribers\")"
   ]
  },
  {
   "cell_type": "code",
   "execution_count": null,
   "id": "9df6e42b",
   "metadata": {},
   "outputs": [],
   "source": [
    "def getTotalSubscribers(soup):\n",
    "    '''\n",
    "    return dataframe contains date and totalSubscribers for the given soup\n",
    "    '''\n",
    "    return getChartData(soup,\"TotalSubscribers\")"
   ]
  },
  {
   "cell_type": "code",
   "execution_count": 2,
   "id": "96f99380",
   "metadata": {},
   "outputs": [],
   "source": [
    "def getDailyVideoViews(soup):\n",
    "    '''\n",
    "    return dataframe contains date and dailyVideoViews for the given soup\n",
    "    '''\n",
    "    return getChartData(soup,\"DailyVideoViews\")"
   ]
  },
  {
   "cell_type": "code",
   "execution_count": 3,
   "id": "c06bae99",
   "metadata": {},
   "outputs": [],
   "source": [
    "def getTotalVideoViews(soup):\n",
    "    '''\n",
    "    return dataframe contains date and totalVideoViews for the given soup\n",
    "    '''\n",
    "    return getChartData(soup,\"TotalVideoViews\")"
   ]
  },
  {
   "cell_type": "code",
   "execution_count": 4,
   "id": "bbc1361e",
   "metadata": {},
   "outputs": [],
   "source": [
    "def getAllCharts(soup):\n",
    "    '''\n",
    "    return dataframe contains date, dailySubscribers, totalSubscribers, dailyVideoViews and totalVideoViews for the given soup\n",
    "    '''\n",
    "    ds = getDailySubscribers(soup)\n",
    "    ts = getTotalSubscribers(soup)\n",
    "    dv = getDailyVideoViews(soup)\n",
    "    tv = getTotalVideoViews(soup)\n",
    "    return ds.merge(ts,on=\"Date\").merge(dv,on=\"Date\").merge(tv,on=\"Date\")"
   ]
  },
  {
   "cell_type": "code",
   "execution_count": 5,
   "id": "484ae4b6",
   "metadata": {},
   "outputs": [
    {
     "ename": "NameError",
     "evalue": "name 'resText' is not defined",
     "output_type": "error",
     "traceback": [
      "\u001b[1;31m---------------------------------------------------------------------------\u001b[0m",
      "\u001b[1;31mNameError\u001b[0m                                 Traceback (most recent call last)",
      "\u001b[1;32m<ipython-input-5-999f78b34c23>\u001b[0m in \u001b[0;36m<module>\u001b[1;34m\u001b[0m\n\u001b[1;32m----> 1\u001b[1;33m \u001b[0msoups\u001b[0m \u001b[1;33m=\u001b[0m \u001b[1;33m[\u001b[0m\u001b[0mBeautifulSoup\u001b[0m\u001b[1;33m(\u001b[0m\u001b[0mr\u001b[0m\u001b[1;33m,\u001b[0m\u001b[1;34m\"html5lib\"\u001b[0m\u001b[1;33m)\u001b[0m \u001b[1;32mfor\u001b[0m \u001b[0mr\u001b[0m \u001b[1;32min\u001b[0m \u001b[0mresText\u001b[0m\u001b[1;33m]\u001b[0m\u001b[1;33m\u001b[0m\u001b[1;33m\u001b[0m\u001b[0m\n\u001b[0m",
      "\u001b[1;31mNameError\u001b[0m: name 'resText' is not defined"
     ]
    }
   ],
   "source": [
    "soups = [BeautifulSoup(r,\"html5lib\") for r in resText]"
   ]
  },
  {
   "cell_type": "code",
   "execution_count": 6,
   "id": "6c4c9b91",
   "metadata": {},
   "outputs": [
    {
     "ename": "NameError",
     "evalue": "name 'soups' is not defined",
     "output_type": "error",
     "traceback": [
      "\u001b[1;31m---------------------------------------------------------------------------\u001b[0m",
      "\u001b[1;31mNameError\u001b[0m                                 Traceback (most recent call last)",
      "\u001b[1;32m<ipython-input-6-277be12cffa5>\u001b[0m in \u001b[0;36m<module>\u001b[1;34m\u001b[0m\n\u001b[1;32m----> 1\u001b[1;33m \u001b[0mchannels_df\u001b[0m \u001b[1;33m=\u001b[0m \u001b[1;33m[\u001b[0m\u001b[0mgetAllCharts\u001b[0m\u001b[1;33m(\u001b[0m\u001b[0msoup\u001b[0m\u001b[1;33m)\u001b[0m \u001b[1;32mfor\u001b[0m \u001b[0msoup\u001b[0m \u001b[1;32min\u001b[0m \u001b[0msoups\u001b[0m\u001b[1;33m]\u001b[0m\u001b[1;33m\u001b[0m\u001b[1;33m\u001b[0m\u001b[0m\n\u001b[0m",
      "\u001b[1;31mNameError\u001b[0m: name 'soups' is not defined"
     ]
    }
   ],
   "source": [
    "channels_df = [getAllCharts(soup) for soup in soups]"
   ]
  },
  {
   "cell_type": "code",
   "execution_count": 7,
   "id": "9b530963",
   "metadata": {},
   "outputs": [
    {
     "ename": "NameError",
     "evalue": "name 'channels_df' is not defined",
     "output_type": "error",
     "traceback": [
      "\u001b[1;31m---------------------------------------------------------------------------\u001b[0m",
      "\u001b[1;31mNameError\u001b[0m                                 Traceback (most recent call last)",
      "\u001b[1;32m<ipython-input-7-efde24be0bd5>\u001b[0m in \u001b[0;36m<module>\u001b[1;34m\u001b[0m\n\u001b[1;32m----> 1\u001b[1;33m \u001b[0mtop1_df\u001b[0m \u001b[1;33m=\u001b[0m \u001b[0mchannels_df\u001b[0m\u001b[1;33m[\u001b[0m\u001b[1;36m0\u001b[0m\u001b[1;33m]\u001b[0m \u001b[1;31m# top 1 channel df\u001b[0m\u001b[1;33m\u001b[0m\u001b[1;33m\u001b[0m\u001b[0m\n\u001b[0m\u001b[0;32m      2\u001b[0m \u001b[0mtop2_df\u001b[0m \u001b[1;33m=\u001b[0m \u001b[0mchannels_df\u001b[0m\u001b[1;33m[\u001b[0m\u001b[1;36m1\u001b[0m\u001b[1;33m]\u001b[0m \u001b[1;31m# top 2 channel df\u001b[0m\u001b[1;33m\u001b[0m\u001b[1;33m\u001b[0m\u001b[0m\n\u001b[0;32m      3\u001b[0m \u001b[0mtop3_df\u001b[0m \u001b[1;33m=\u001b[0m \u001b[0mchannels_df\u001b[0m\u001b[1;33m[\u001b[0m\u001b[1;36m2\u001b[0m\u001b[1;33m]\u001b[0m \u001b[1;31m# top 3 channel df\u001b[0m\u001b[1;33m\u001b[0m\u001b[1;33m\u001b[0m\u001b[0m\n\u001b[0;32m      4\u001b[0m \u001b[1;31m# top4_df = channels_df[3] # top 4 channel df شلناها لان عدد الروز قليل\u001b[0m\u001b[1;33m\u001b[0m\u001b[1;33m\u001b[0m\u001b[1;33m\u001b[0m\u001b[0m\n\u001b[0;32m      5\u001b[0m \u001b[0mtop4_df\u001b[0m \u001b[1;33m=\u001b[0m \u001b[0mchannels_df\u001b[0m\u001b[1;33m[\u001b[0m\u001b[1;36m4\u001b[0m\u001b[1;33m]\u001b[0m \u001b[1;31m# top 4 channel df\u001b[0m\u001b[1;33m\u001b[0m\u001b[1;33m\u001b[0m\u001b[0m\n",
      "\u001b[1;31mNameError\u001b[0m: name 'channels_df' is not defined"
     ]
    }
   ],
   "source": [
    "top1_df = channels_df[0] # top 1 channel df\n",
    "top2_df = channels_df[1] # top 2 channel df\n",
    "top3_df = channels_df[2] # top 3 channel df\n",
    "# top4_df = channels_df[3] # top 4 channel df شلناها لان عدد الروز قليل\n",
    "top4_df = channels_df[4] # top 4 channel df\n",
    "top5_df = channels_df[5] # top 4 channel df"
   ]
  },
  {
   "cell_type": "code",
   "execution_count": 8,
   "id": "8ccc0789",
   "metadata": {},
   "outputs": [
    {
     "ename": "NameError",
     "evalue": "name 'top1_df' is not defined",
     "output_type": "error",
     "traceback": [
      "\u001b[1;31m---------------------------------------------------------------------------\u001b[0m",
      "\u001b[1;31mNameError\u001b[0m                                 Traceback (most recent call last)",
      "\u001b[1;32m<ipython-input-8-df2871e44150>\u001b[0m in \u001b[0;36m<module>\u001b[1;34m\u001b[0m\n\u001b[1;32m----> 1\u001b[1;33m \u001b[0mX_y\u001b[0m \u001b[1;33m=\u001b[0m \u001b[0mtop1_df\u001b[0m\u001b[1;33m[\u001b[0m\u001b[1;33m[\u001b[0m\u001b[1;34m\"Date\"\u001b[0m\u001b[1;33m,\u001b[0m\u001b[1;34m\"TotalSubscribers\"\u001b[0m\u001b[1;33m]\u001b[0m\u001b[1;33m]\u001b[0m\u001b[1;31m#[top1_df[\"DailyVideoViews\"] != 0]\u001b[0m\u001b[1;33m\u001b[0m\u001b[1;33m\u001b[0m\u001b[0m\n\u001b[0m\u001b[0;32m      2\u001b[0m \u001b[0mX_y\u001b[0m\u001b[1;33m.\u001b[0m\u001b[0mcolumns\u001b[0m \u001b[1;33m=\u001b[0m \u001b[1;33m[\u001b[0m\u001b[1;34m\"ds\"\u001b[0m\u001b[1;33m,\u001b[0m\u001b[1;34m\"y\"\u001b[0m\u001b[1;33m]\u001b[0m\u001b[1;33m\u001b[0m\u001b[1;33m\u001b[0m\u001b[0m\n\u001b[0;32m      3\u001b[0m \u001b[0mm\u001b[0m \u001b[1;33m=\u001b[0m \u001b[0mProphet\u001b[0m\u001b[1;33m(\u001b[0m\u001b[0mdaily_seasonality\u001b[0m\u001b[1;33m=\u001b[0m\u001b[1;32mTrue\u001b[0m\u001b[1;33m)\u001b[0m\u001b[1;33m\u001b[0m\u001b[1;33m\u001b[0m\u001b[0m\n\u001b[0;32m      4\u001b[0m \u001b[0mm\u001b[0m\u001b[1;33m.\u001b[0m\u001b[0mfit\u001b[0m\u001b[1;33m(\u001b[0m\u001b[0mX_y\u001b[0m\u001b[1;33m)\u001b[0m\u001b[1;33m\u001b[0m\u001b[1;33m\u001b[0m\u001b[0m\n",
      "\u001b[1;31mNameError\u001b[0m: name 'top1_df' is not defined"
     ]
    }
   ],
   "source": [
    "X_y = top1_df[[\"Date\",\"TotalSubscribers\"]]#[top1_df[\"DailyVideoViews\"] != 0]\n",
    "X_y.columns = [\"ds\",\"y\"]\n",
    "m = Prophet(daily_seasonality=True)\n",
    "m.fit(X_y)"
   ]
  },
  {
   "cell_type": "code",
   "execution_count": 9,
   "id": "1b79da9d",
   "metadata": {},
   "outputs": [
    {
     "ename": "NameError",
     "evalue": "name 'm' is not defined",
     "output_type": "error",
     "traceback": [
      "\u001b[1;31m---------------------------------------------------------------------------\u001b[0m",
      "\u001b[1;31mNameError\u001b[0m                                 Traceback (most recent call last)",
      "\u001b[1;32m<ipython-input-9-435a84364f18>\u001b[0m in \u001b[0;36m<module>\u001b[1;34m\u001b[0m\n\u001b[1;32m----> 1\u001b[1;33m \u001b[0mfuture\u001b[0m \u001b[1;33m=\u001b[0m \u001b[0mm\u001b[0m\u001b[1;33m.\u001b[0m\u001b[0mmake_future_dataframe\u001b[0m\u001b[1;33m(\u001b[0m\u001b[0mperiods\u001b[0m\u001b[1;33m=\u001b[0m\u001b[1;36m365\u001b[0m\u001b[1;33m)\u001b[0m\u001b[1;33m\u001b[0m\u001b[1;33m\u001b[0m\u001b[0m\n\u001b[0m",
      "\u001b[1;31mNameError\u001b[0m: name 'm' is not defined"
     ]
    }
   ],
   "source": [
    "future = m.make_future_dataframe(periods=365)"
   ]
  },
  {
   "cell_type": "code",
   "execution_count": 10,
   "id": "86bfdfaa",
   "metadata": {},
   "outputs": [
    {
     "ename": "NameError",
     "evalue": "name 'm' is not defined",
     "output_type": "error",
     "traceback": [
      "\u001b[1;31m---------------------------------------------------------------------------\u001b[0m",
      "\u001b[1;31mNameError\u001b[0m                                 Traceback (most recent call last)",
      "\u001b[1;32m<ipython-input-10-cfeca08f86d4>\u001b[0m in \u001b[0;36m<module>\u001b[1;34m\u001b[0m\n\u001b[1;32m----> 1\u001b[1;33m \u001b[0mforecast\u001b[0m \u001b[1;33m=\u001b[0m \u001b[0mm\u001b[0m\u001b[1;33m.\u001b[0m\u001b[0mpredict\u001b[0m\u001b[1;33m(\u001b[0m\u001b[0mfuture\u001b[0m\u001b[1;33m)\u001b[0m\u001b[1;33m\u001b[0m\u001b[1;33m\u001b[0m\u001b[0m\n\u001b[0m",
      "\u001b[1;31mNameError\u001b[0m: name 'm' is not defined"
     ]
    }
   ],
   "source": [
    "forecast = m.predict(future)"
   ]
  },
  {
   "cell_type": "code",
   "execution_count": 11,
   "id": "af154ee9",
   "metadata": {},
   "outputs": [
    {
     "ename": "NameError",
     "evalue": "name 'forecast' is not defined",
     "output_type": "error",
     "traceback": [
      "\u001b[1;31m---------------------------------------------------------------------------\u001b[0m",
      "\u001b[1;31mNameError\u001b[0m                                 Traceback (most recent call last)",
      "\u001b[1;32m<ipython-input-11-4a49a479b6b7>\u001b[0m in \u001b[0;36m<module>\u001b[1;34m\u001b[0m\n\u001b[1;32m----> 1\u001b[1;33m \u001b[0mforecast\u001b[0m\u001b[1;33m[\u001b[0m\u001b[1;33m[\u001b[0m\u001b[1;34m'ds'\u001b[0m\u001b[1;33m,\u001b[0m \u001b[1;34m'yhat'\u001b[0m\u001b[1;33m,\u001b[0m \u001b[1;34m'yhat_lower'\u001b[0m\u001b[1;33m,\u001b[0m \u001b[1;34m'yhat_upper'\u001b[0m\u001b[1;33m]\u001b[0m\u001b[1;33m]\u001b[0m\u001b[1;33m.\u001b[0m\u001b[0mtail\u001b[0m\u001b[1;33m(\u001b[0m\u001b[1;33m)\u001b[0m\u001b[1;33m\u001b[0m\u001b[1;33m\u001b[0m\u001b[0m\n\u001b[0m",
      "\u001b[1;31mNameError\u001b[0m: name 'forecast' is not defined"
     ]
    }
   ],
   "source": [
    "forecast[['ds', 'yhat', 'yhat_lower', 'yhat_upper']].tail()"
   ]
  },
  {
   "cell_type": "code",
   "execution_count": 12,
   "id": "8f250846",
   "metadata": {},
   "outputs": [
    {
     "ename": "NameError",
     "evalue": "name 'forecast' is not defined",
     "output_type": "error",
     "traceback": [
      "\u001b[1;31m---------------------------------------------------------------------------\u001b[0m",
      "\u001b[1;31mNameError\u001b[0m                                 Traceback (most recent call last)",
      "\u001b[1;32m<ipython-input-12-4a49a479b6b7>\u001b[0m in \u001b[0;36m<module>\u001b[1;34m\u001b[0m\n\u001b[1;32m----> 1\u001b[1;33m \u001b[0mforecast\u001b[0m\u001b[1;33m[\u001b[0m\u001b[1;33m[\u001b[0m\u001b[1;34m'ds'\u001b[0m\u001b[1;33m,\u001b[0m \u001b[1;34m'yhat'\u001b[0m\u001b[1;33m,\u001b[0m \u001b[1;34m'yhat_lower'\u001b[0m\u001b[1;33m,\u001b[0m \u001b[1;34m'yhat_upper'\u001b[0m\u001b[1;33m]\u001b[0m\u001b[1;33m]\u001b[0m\u001b[1;33m.\u001b[0m\u001b[0mtail\u001b[0m\u001b[1;33m(\u001b[0m\u001b[1;33m)\u001b[0m\u001b[1;33m\u001b[0m\u001b[1;33m\u001b[0m\u001b[0m\n\u001b[0m",
      "\u001b[1;31mNameError\u001b[0m: name 'forecast' is not defined"
     ]
    }
   ],
   "source": [
    "forecast[['ds', 'yhat', 'yhat_lower', 'yhat_upper']].tail()"
   ]
  },
  {
   "cell_type": "code",
   "execution_count": 13,
   "id": "1ea999c2",
   "metadata": {},
   "outputs": [
    {
     "ename": "NameError",
     "evalue": "name 'm' is not defined",
     "output_type": "error",
     "traceback": [
      "\u001b[1;31m---------------------------------------------------------------------------\u001b[0m",
      "\u001b[1;31mNameError\u001b[0m                                 Traceback (most recent call last)",
      "\u001b[1;32m<ipython-input-13-cfc41cac3540>\u001b[0m in \u001b[0;36m<module>\u001b[1;34m\u001b[0m\n\u001b[1;32m----> 1\u001b[1;33m \u001b[0mm\u001b[0m\u001b[1;33m.\u001b[0m\u001b[0mplot_components\u001b[0m\u001b[1;33m(\u001b[0m\u001b[0mforecast\u001b[0m\u001b[1;33m)\u001b[0m\u001b[1;33m\u001b[0m\u001b[1;33m\u001b[0m\u001b[0m\n\u001b[0m",
      "\u001b[1;31mNameError\u001b[0m: name 'm' is not defined"
     ]
    }
   ],
   "source": [
    " m.plot_components(forecast)"
   ]
  },
  {
   "cell_type": "code",
   "execution_count": 14,
   "id": "2d3c87f0",
   "metadata": {},
   "outputs": [
    {
     "ename": "NameError",
     "evalue": "name 'top1_df' is not defined",
     "output_type": "error",
     "traceback": [
      "\u001b[1;31m---------------------------------------------------------------------------\u001b[0m",
      "\u001b[1;31mNameError\u001b[0m                                 Traceback (most recent call last)",
      "\u001b[1;32m<ipython-input-14-37e6bf2b5a64>\u001b[0m in \u001b[0;36m<module>\u001b[1;34m\u001b[0m\n\u001b[0;32m      1\u001b[0m \u001b[1;31m# total number of rows\u001b[0m\u001b[1;33m\u001b[0m\u001b[1;33m\u001b[0m\u001b[1;33m\u001b[0m\u001b[0m\n\u001b[0;32m      2\u001b[0m \u001b[0mtotal\u001b[0m \u001b[1;33m=\u001b[0m \u001b[1;36m0\u001b[0m\u001b[1;33m\u001b[0m\u001b[1;33m\u001b[0m\u001b[0m\n\u001b[1;32m----> 3\u001b[1;33m \u001b[1;32mfor\u001b[0m \u001b[0mc\u001b[0m \u001b[1;32min\u001b[0m \u001b[1;33m[\u001b[0m\u001b[0mtop1_df\u001b[0m\u001b[1;33m,\u001b[0m\u001b[0mtop2_df\u001b[0m\u001b[1;33m,\u001b[0m\u001b[0mtop3_df\u001b[0m\u001b[1;33m,\u001b[0m\u001b[0mtop4_df\u001b[0m\u001b[1;33m,\u001b[0m\u001b[0mtop5_df\u001b[0m\u001b[1;33m]\u001b[0m\u001b[1;33m:\u001b[0m\u001b[1;33m\u001b[0m\u001b[1;33m\u001b[0m\u001b[0m\n\u001b[0m\u001b[0;32m      4\u001b[0m     \u001b[0mtotal\u001b[0m \u001b[1;33m+=\u001b[0m \u001b[0mlen\u001b[0m\u001b[1;33m(\u001b[0m\u001b[0mc\u001b[0m\u001b[1;33m)\u001b[0m\u001b[1;33m\u001b[0m\u001b[1;33m\u001b[0m\u001b[0m\n\u001b[0;32m      5\u001b[0m \u001b[0mprint\u001b[0m\u001b[1;33m(\u001b[0m\u001b[1;34mf\"the total number of rows is {total}\"\u001b[0m\u001b[1;33m)\u001b[0m\u001b[1;33m\u001b[0m\u001b[1;33m\u001b[0m\u001b[0m\n",
      "\u001b[1;31mNameError\u001b[0m: name 'top1_df' is not defined"
     ]
    }
   ],
   "source": [
    "# total number of rows\n",
    "total = 0\n",
    "for c in [top1_df,top2_df,top3_df,top4_df,top5_df]:\n",
    "    total += len(c)\n",
    "print(f\"the total number of rows is {total}\")"
   ]
  },
  {
   "cell_type": "code",
   "execution_count": 15,
   "id": "5c9c7ce8",
   "metadata": {},
   "outputs": [
    {
     "ename": "NameError",
     "evalue": "name 'top1_df' is not defined",
     "output_type": "error",
     "traceback": [
      "\u001b[1;31m---------------------------------------------------------------------------\u001b[0m",
      "\u001b[1;31mNameError\u001b[0m                                 Traceback (most recent call last)",
      "\u001b[1;32m<ipython-input-15-a3db57c14b1a>\u001b[0m in \u001b[0;36m<module>\u001b[1;34m\u001b[0m\n\u001b[1;32m----> 1\u001b[1;33m \u001b[1;32mfor\u001b[0m \u001b[0mc\u001b[0m \u001b[1;32min\u001b[0m \u001b[1;33m[\u001b[0m\u001b[0mtop1_df\u001b[0m\u001b[1;33m,\u001b[0m\u001b[0mtop2_df\u001b[0m\u001b[1;33m,\u001b[0m\u001b[0mtop3_df\u001b[0m\u001b[1;33m,\u001b[0m\u001b[0mtop4_df\u001b[0m\u001b[1;33m,\u001b[0m\u001b[0mtop5_df\u001b[0m\u001b[1;33m]\u001b[0m\u001b[1;33m:\u001b[0m\u001b[1;33m\u001b[0m\u001b[1;33m\u001b[0m\u001b[0m\n\u001b[0m\u001b[0;32m      2\u001b[0m     \u001b[0mprint\u001b[0m\u001b[1;33m(\u001b[0m\u001b[0mc\u001b[0m\u001b[1;33m.\u001b[0m\u001b[0minfo\u001b[0m\u001b[1;33m(\u001b[0m\u001b[1;33m)\u001b[0m\u001b[1;33m)\u001b[0m\u001b[1;33m\u001b[0m\u001b[1;33m\u001b[0m\u001b[0m\n",
      "\u001b[1;31mNameError\u001b[0m: name 'top1_df' is not defined"
     ]
    }
   ],
   "source": [
    "for c in [top1_df,top2_df,top3_df,top4_df,top5_df]:\n",
    "    print(c.info())"
   ]
  },
  {
   "cell_type": "code",
   "execution_count": 16,
   "id": "d0ac82da",
   "metadata": {},
   "outputs": [
    {
     "ename": "NameError",
     "evalue": "name 'urllib' is not defined",
     "output_type": "error",
     "traceback": [
      "\u001b[1;31m---------------------------------------------------------------------------\u001b[0m",
      "\u001b[1;31mNameError\u001b[0m                                 Traceback (most recent call last)",
      "\u001b[1;32m<ipython-input-16-011754bfd750>\u001b[0m in \u001b[0;36m<module>\u001b[1;34m\u001b[0m\n\u001b[1;32m----> 1\u001b[1;33m \u001b[0mopener\u001b[0m \u001b[1;33m=\u001b[0m \u001b[0murllib\u001b[0m\u001b[1;33m.\u001b[0m\u001b[0mrequest\u001b[0m\u001b[1;33m.\u001b[0m\u001b[0mbuild_opener\u001b[0m\u001b[1;33m(\u001b[0m\u001b[1;33m)\u001b[0m\u001b[1;33m\u001b[0m\u001b[1;33m\u001b[0m\u001b[0m\n\u001b[0m\u001b[0;32m      2\u001b[0m \u001b[0mopener\u001b[0m\u001b[1;33m.\u001b[0m\u001b[0maddheaders\u001b[0m \u001b[1;33m=\u001b[0m \u001b[1;33m[\u001b[0m\u001b[1;33m(\u001b[0m\u001b[1;34m'User-agent'\u001b[0m\u001b[1;33m,\u001b[0m \u001b[1;34m'Mozilla/5.0'\u001b[0m\u001b[1;33m)\u001b[0m\u001b[1;33m]\u001b[0m\u001b[1;33m\u001b[0m\u001b[1;33m\u001b[0m\u001b[0m\n\u001b[0;32m      3\u001b[0m \u001b[0mr\u001b[0m \u001b[1;33m=\u001b[0m \u001b[0mstr\u001b[0m\u001b[1;33m(\u001b[0m\u001b[0mopener\u001b[0m\u001b[1;33m.\u001b[0m\u001b[0mopen\u001b[0m\u001b[1;33m(\u001b[0m\u001b[1;34m\"https://socialblade.com/youtube/user/mmoshaya/monthly\"\u001b[0m\u001b[1;33m)\u001b[0m\u001b[1;33m.\u001b[0m\u001b[0mread\u001b[0m\u001b[1;33m(\u001b[0m\u001b[1;33m)\u001b[0m\u001b[1;33m)\u001b[0m\u001b[1;33m\u001b[0m\u001b[1;33m\u001b[0m\u001b[0m\n",
      "\u001b[1;31mNameError\u001b[0m: name 'urllib' is not defined"
     ]
    }
   ],
   "source": [
    "opener = urllib.request.build_opener()\n",
    "opener.addheaders = [('User-agent', 'Mozilla/5.0')]\n",
    "r = str(opener.open(\"https://socialblade.com/youtube/user/mmoshaya/monthly\").read())"
   ]
  },
  {
   "cell_type": "code",
   "execution_count": 17,
   "id": "924a9103",
   "metadata": {},
   "outputs": [
    {
     "ename": "NameError",
     "evalue": "name 'r' is not defined",
     "output_type": "error",
     "traceback": [
      "\u001b[1;31m---------------------------------------------------------------------------\u001b[0m",
      "\u001b[1;31mNameError\u001b[0m                                 Traceback (most recent call last)",
      "\u001b[1;32m<ipython-input-17-319b0c751870>\u001b[0m in \u001b[0;36m<module>\u001b[1;34m\u001b[0m\n\u001b[1;32m----> 1\u001b[1;33m \u001b[0mlists\u001b[0m \u001b[1;33m=\u001b[0m \u001b[1;33m[\u001b[0m\u001b[0mjson\u001b[0m\u001b[1;33m.\u001b[0m\u001b[0mloads\u001b[0m\u001b[1;33m(\u001b[0m\u001b[0ml\u001b[0m\u001b[1;33m[\u001b[0m\u001b[1;36m0\u001b[0m\u001b[1;33m]\u001b[0m\u001b[1;33m)\u001b[0m \u001b[1;32mfor\u001b[0m \u001b[0ml\u001b[0m \u001b[1;32min\u001b[0m \u001b[0mre\u001b[0m\u001b[1;33m.\u001b[0m\u001b[0mfindall\u001b[0m\u001b[1;33m(\u001b[0m\u001b[1;34m'(\\[(\\[\\d+,\\d+\\],?)+\\])'\u001b[0m\u001b[1;33m,\u001b[0m\u001b[0mr\u001b[0m\u001b[1;33m)\u001b[0m\u001b[1;33m]\u001b[0m\u001b[1;33m\u001b[0m\u001b[1;33m\u001b[0m\u001b[0m\n\u001b[0m",
      "\u001b[1;31mNameError\u001b[0m: name 'r' is not defined"
     ]
    }
   ],
   "source": [
    "lists = [json.loads(l[0]) for l in re.findall('(\\[(\\[\\d+,\\d+\\],?)+\\])',r)]"
   ]
  },
  {
   "cell_type": "code",
   "execution_count": 18,
   "id": "225a4e21",
   "metadata": {},
   "outputs": [
    {
     "ename": "NameError",
     "evalue": "name 'r' is not defined",
     "output_type": "error",
     "traceback": [
      "\u001b[1;31m---------------------------------------------------------------------------\u001b[0m",
      "\u001b[1;31mNameError\u001b[0m                                 Traceback (most recent call last)",
      "\u001b[1;32m<ipython-input-18-d3f1e12c6c87>\u001b[0m in \u001b[0;36m<module>\u001b[1;34m\u001b[0m\n\u001b[1;32m----> 1\u001b[1;33m \u001b[0mcol\u001b[0m \u001b[1;33m=\u001b[0m \u001b[0mre\u001b[0m\u001b[1;33m.\u001b[0m\u001b[0mfindall\u001b[0m\u001b[1;33m(\u001b[0m\u001b[1;34m'title: { text: \\\\\\\\\\'([\\w|\\s]+) for'\u001b[0m\u001b[1;33m,\u001b[0m\u001b[0mr\u001b[0m\u001b[1;33m)\u001b[0m\u001b[1;33m\u001b[0m\u001b[1;33m\u001b[0m\u001b[0m\n\u001b[0m",
      "\u001b[1;31mNameError\u001b[0m: name 'r' is not defined"
     ]
    }
   ],
   "source": [
    "col = re.findall('title: { text: \\\\\\\\\\'([\\w|\\s]+) for',r)"
   ]
  },
  {
   "cell_type": "code",
   "execution_count": 275,
   "id": "be867ce9",
   "metadata": {},
   "outputs": [
    {
     "data": {
      "text/plain": [
       "['Weekly Subscribers Gained',\n",
       " 'Weekly Video Views Gained',\n",
       " 'Total Subscribers',\n",
       " 'Total Video Views',\n",
       " 'Total Subscribers',\n",
       " 'Total Video Views']"
      ]
     },
     "execution_count": 275,
     "metadata": {},
     "output_type": "execute_result"
    }
   ],
   "source": [
    "col"
   ]
  },
  {
   "cell_type": "code",
   "execution_count": 276,
   "id": "e144a783",
   "metadata": {},
   "outputs": [],
   "source": [
    "date1 = pd.Series([i[0] for i in lists[0]])\n",
    "df1 = pd.DataFrame({\n",
    "    \"Date\": pd.to_datetime(date1,unit=\"ms\").dt.date, #parse Date from timestamp to date\n",
    "    col[0]: [i[1] for i in lists[0]],\n",
    "    col[1]: [i[1] for i in lists[1]],\n",
    "})\n",
    "\n",
    "date2 = pd.Series([i[0] for i in lists[2]])\n",
    "df2 = pd.DataFrame({\n",
    "    \"Date\": pd.to_datetime(date2,unit=\"ms\").dt.date, #parse Date from timestamp to date\n",
    "    col[2]: [i[1] for i in lists[2]],\n",
    "    col[3]: [i[1] for i in lists[3]],\n",
    "})\n",
    "\n",
    "date3 = pd.Series([i[0] for i in lists[4]])\n",
    "df3 = pd.DataFrame({\n",
    "    \"Date\": pd.to_datetime(date3,unit=\"ms\").dt.date, #parse Date from timestamp to date\n",
    "    col[4]: [i[1] for i in lists[4]],\n",
    "    col[5]: [i[1] for i in lists[5]],\n",
    "})"
   ]
  },
  {
   "cell_type": "code",
   "execution_count": 280,
   "id": "f0633d8b",
   "metadata": {},
   "outputs": [
    {
     "data": {
      "text/html": [
       "<div>\n",
       "<style scoped>\n",
       "    .dataframe tbody tr th:only-of-type {\n",
       "        vertical-align: middle;\n",
       "    }\n",
       "\n",
       "    .dataframe tbody tr th {\n",
       "        vertical-align: top;\n",
       "    }\n",
       "\n",
       "    .dataframe thead th {\n",
       "        text-align: right;\n",
       "    }\n",
       "</style>\n",
       "<table border=\"1\" class=\"dataframe\">\n",
       "  <thead>\n",
       "    <tr style=\"text-align: right;\">\n",
       "      <th></th>\n",
       "      <th>Date</th>\n",
       "      <th>Total Subscribers</th>\n",
       "      <th>Total Video Views</th>\n",
       "    </tr>\n",
       "  </thead>\n",
       "  <tbody>\n",
       "    <tr>\n",
       "      <th>0</th>\n",
       "      <td>2021-08-01</td>\n",
       "      <td>20600000</td>\n",
       "      <td>14147979000</td>\n",
       "    </tr>\n",
       "    <tr>\n",
       "      <th>1</th>\n",
       "      <td>2021-07-01</td>\n",
       "      <td>20400000</td>\n",
       "      <td>13859725817</td>\n",
       "    </tr>\n",
       "    <tr>\n",
       "      <th>2</th>\n",
       "      <td>2021-06-01</td>\n",
       "      <td>20200000</td>\n",
       "      <td>13568471366</td>\n",
       "    </tr>\n",
       "    <tr>\n",
       "      <th>3</th>\n",
       "      <td>2021-05-01</td>\n",
       "      <td>20000000</td>\n",
       "      <td>13282117001</td>\n",
       "    </tr>\n",
       "    <tr>\n",
       "      <th>4</th>\n",
       "      <td>2021-04-01</td>\n",
       "      <td>19700000</td>\n",
       "      <td>12917933624</td>\n",
       "    </tr>\n",
       "    <tr>\n",
       "      <th>5</th>\n",
       "      <td>2021-03-01</td>\n",
       "      <td>19300000</td>\n",
       "      <td>12578733516</td>\n",
       "    </tr>\n",
       "    <tr>\n",
       "      <th>6</th>\n",
       "      <td>2021-02-01</td>\n",
       "      <td>19100000</td>\n",
       "      <td>12296234347</td>\n",
       "    </tr>\n",
       "    <tr>\n",
       "      <th>7</th>\n",
       "      <td>2021-01-01</td>\n",
       "      <td>18900000</td>\n",
       "      <td>12007468966</td>\n",
       "    </tr>\n",
       "    <tr>\n",
       "      <th>8</th>\n",
       "      <td>2020-12-01</td>\n",
       "      <td>18700000</td>\n",
       "      <td>11723144157</td>\n",
       "    </tr>\n",
       "    <tr>\n",
       "      <th>9</th>\n",
       "      <td>2020-11-01</td>\n",
       "      <td>18400000</td>\n",
       "      <td>11424122268</td>\n",
       "    </tr>\n",
       "    <tr>\n",
       "      <th>10</th>\n",
       "      <td>2020-10-01</td>\n",
       "      <td>18200000</td>\n",
       "      <td>11061565747</td>\n",
       "    </tr>\n",
       "    <tr>\n",
       "      <th>11</th>\n",
       "      <td>2020-09-01</td>\n",
       "      <td>18000000</td>\n",
       "      <td>10741819687</td>\n",
       "    </tr>\n",
       "    <tr>\n",
       "      <th>12</th>\n",
       "      <td>2020-08-01</td>\n",
       "      <td>17700000</td>\n",
       "      <td>10376955924</td>\n",
       "    </tr>\n",
       "    <tr>\n",
       "      <th>13</th>\n",
       "      <td>2020-07-01</td>\n",
       "      <td>17300000</td>\n",
       "      <td>10029543605</td>\n",
       "    </tr>\n",
       "    <tr>\n",
       "      <th>14</th>\n",
       "      <td>2020-06-01</td>\n",
       "      <td>16900000</td>\n",
       "      <td>9672514579</td>\n",
       "    </tr>\n",
       "    <tr>\n",
       "      <th>15</th>\n",
       "      <td>2020-05-01</td>\n",
       "      <td>16400000</td>\n",
       "      <td>9353980935</td>\n",
       "    </tr>\n",
       "    <tr>\n",
       "      <th>16</th>\n",
       "      <td>2020-04-01</td>\n",
       "      <td>16000000</td>\n",
       "      <td>9012640957</td>\n",
       "    </tr>\n",
       "    <tr>\n",
       "      <th>17</th>\n",
       "      <td>2020-03-01</td>\n",
       "      <td>15500000</td>\n",
       "      <td>8738472859</td>\n",
       "    </tr>\n",
       "    <tr>\n",
       "      <th>18</th>\n",
       "      <td>2020-02-01</td>\n",
       "      <td>15200000</td>\n",
       "      <td>8508072760</td>\n",
       "    </tr>\n",
       "    <tr>\n",
       "      <th>19</th>\n",
       "      <td>2020-01-01</td>\n",
       "      <td>14800000</td>\n",
       "      <td>8227627845</td>\n",
       "    </tr>\n",
       "    <tr>\n",
       "      <th>20</th>\n",
       "      <td>2019-12-01</td>\n",
       "      <td>14400000</td>\n",
       "      <td>7940252390</td>\n",
       "    </tr>\n",
       "    <tr>\n",
       "      <th>21</th>\n",
       "      <td>2019-11-01</td>\n",
       "      <td>13900000</td>\n",
       "      <td>7689037218</td>\n",
       "    </tr>\n",
       "    <tr>\n",
       "      <th>22</th>\n",
       "      <td>2019-10-01</td>\n",
       "      <td>13500000</td>\n",
       "      <td>7455657341</td>\n",
       "    </tr>\n",
       "    <tr>\n",
       "      <th>23</th>\n",
       "      <td>2019-09-01</td>\n",
       "      <td>13090629</td>\n",
       "      <td>7204067645</td>\n",
       "    </tr>\n",
       "    <tr>\n",
       "      <th>24</th>\n",
       "      <td>2019-08-01</td>\n",
       "      <td>12556192</td>\n",
       "      <td>6920677240</td>\n",
       "    </tr>\n",
       "    <tr>\n",
       "      <th>25</th>\n",
       "      <td>2019-07-01</td>\n",
       "      <td>12032412</td>\n",
       "      <td>6634528893</td>\n",
       "    </tr>\n",
       "    <tr>\n",
       "      <th>26</th>\n",
       "      <td>2019-06-01</td>\n",
       "      <td>11443392</td>\n",
       "      <td>6314489152</td>\n",
       "    </tr>\n",
       "    <tr>\n",
       "      <th>27</th>\n",
       "      <td>2019-05-01</td>\n",
       "      <td>10879793</td>\n",
       "      <td>5997895654</td>\n",
       "    </tr>\n",
       "    <tr>\n",
       "      <th>28</th>\n",
       "      <td>2019-04-01</td>\n",
       "      <td>10381255</td>\n",
       "      <td>5735448220</td>\n",
       "    </tr>\n",
       "    <tr>\n",
       "      <th>29</th>\n",
       "      <td>2019-03-01</td>\n",
       "      <td>9912216</td>\n",
       "      <td>5445048963</td>\n",
       "    </tr>\n",
       "    <tr>\n",
       "      <th>30</th>\n",
       "      <td>2019-02-01</td>\n",
       "      <td>9549493</td>\n",
       "      <td>5203677293</td>\n",
       "    </tr>\n",
       "    <tr>\n",
       "      <th>31</th>\n",
       "      <td>2019-01-01</td>\n",
       "      <td>9009233</td>\n",
       "      <td>4900225886</td>\n",
       "    </tr>\n",
       "    <tr>\n",
       "      <th>32</th>\n",
       "      <td>2018-12-01</td>\n",
       "      <td>8488691</td>\n",
       "      <td>4631999496</td>\n",
       "    </tr>\n",
       "    <tr>\n",
       "      <th>33</th>\n",
       "      <td>2018-11-01</td>\n",
       "      <td>7941600</td>\n",
       "      <td>4376797101</td>\n",
       "    </tr>\n",
       "    <tr>\n",
       "      <th>34</th>\n",
       "      <td>2018-10-01</td>\n",
       "      <td>7246919</td>\n",
       "      <td>4093103893</td>\n",
       "    </tr>\n",
       "  </tbody>\n",
       "</table>\n",
       "</div>"
      ],
      "text/plain": [
       "          Date  Total Subscribers  Total Video Views\n",
       "0   2021-08-01           20600000        14147979000\n",
       "1   2021-07-01           20400000        13859725817\n",
       "2   2021-06-01           20200000        13568471366\n",
       "3   2021-05-01           20000000        13282117001\n",
       "4   2021-04-01           19700000        12917933624\n",
       "5   2021-03-01           19300000        12578733516\n",
       "6   2021-02-01           19100000        12296234347\n",
       "7   2021-01-01           18900000        12007468966\n",
       "8   2020-12-01           18700000        11723144157\n",
       "9   2020-11-01           18400000        11424122268\n",
       "10  2020-10-01           18200000        11061565747\n",
       "11  2020-09-01           18000000        10741819687\n",
       "12  2020-08-01           17700000        10376955924\n",
       "13  2020-07-01           17300000        10029543605\n",
       "14  2020-06-01           16900000         9672514579\n",
       "15  2020-05-01           16400000         9353980935\n",
       "16  2020-04-01           16000000         9012640957\n",
       "17  2020-03-01           15500000         8738472859\n",
       "18  2020-02-01           15200000         8508072760\n",
       "19  2020-01-01           14800000         8227627845\n",
       "20  2019-12-01           14400000         7940252390\n",
       "21  2019-11-01           13900000         7689037218\n",
       "22  2019-10-01           13500000         7455657341\n",
       "23  2019-09-01           13090629         7204067645\n",
       "24  2019-08-01           12556192         6920677240\n",
       "25  2019-07-01           12032412         6634528893\n",
       "26  2019-06-01           11443392         6314489152\n",
       "27  2019-05-01           10879793         5997895654\n",
       "28  2019-04-01           10381255         5735448220\n",
       "29  2019-03-01            9912216         5445048963\n",
       "30  2019-02-01            9549493         5203677293\n",
       "31  2019-01-01            9009233         4900225886\n",
       "32  2018-12-01            8488691         4631999496\n",
       "33  2018-11-01            7941600         4376797101\n",
       "34  2018-10-01            7246919         4093103893"
      ]
     },
     "execution_count": 280,
     "metadata": {},
     "output_type": "execute_result"
    }
   ],
   "source": [
    "df2"
   ]
  },
  {
   "cell_type": "code",
   "execution_count": 252,
   "id": "7cf2a5db",
   "metadata": {},
   "outputs": [
    {
     "data": {
      "text/plain": [
       "0     2018-09-21 07:00:00\n",
       "1     2018-09-24 07:00:00\n",
       "2     2018-10-01 07:00:00\n",
       "3     2018-10-08 07:00:00\n",
       "4     2018-10-15 07:00:00\n",
       "              ...        \n",
       "151   2021-08-09 07:00:00\n",
       "152   2021-08-16 07:00:00\n",
       "153   2021-08-23 07:00:00\n",
       "154   2021-08-30 07:00:00\n",
       "155   2021-09-06 07:00:00\n",
       "Name: Date, Length: 156, dtype: datetime64[ns]"
      ]
     },
     "execution_count": 252,
     "metadata": {},
     "output_type": "execute_result"
    }
   ],
   "source": [
    "df.Date.apply(lambda d: datetime.fromtimestamp(d/1000))"
   ]
  },
  {
   "cell_type": "code",
   "execution_count": 242,
   "id": "507c713a",
   "metadata": {},
   "outputs": [
    {
     "data": {
      "text/plain": [
       "datetime.datetime(2018, 9, 21, 7, 0)"
      ]
     },
     "execution_count": 242,
     "metadata": {},
     "output_type": "execute_result"
    }
   ],
   "source": []
  },
  {
   "cell_type": "markdown",
   "id": "4d12555a",
   "metadata": {},
   "source": [
    "# needs to check it \n"
   ]
  },
  {
   "cell_type": "code",
   "execution_count": null,
   "id": "9cfb18a5",
   "metadata": {},
   "outputs": [],
   "source": [
    "with open('req0.html') as page:\n",
    "    html = page.read()\n",
    "soup = BeautifulSoup(html, 'lxml')"
   ]
  },
  {
   "cell_type": "code",
   "execution_count": null,
   "id": "b3c08f20",
   "metadata": {},
   "outputs": [],
   "source": [
    "#print(soup.prettify())"
   ]
  },
  {
   "cell_type": "code",
   "execution_count": null,
   "id": "b1f6bcbc",
   "metadata": {},
   "outputs": [],
   "source": [
    "# up_string = soup.find_all(text=re.compile('Up'))\n",
    "# up_string"
   ]
  },
  {
   "cell_type": "code",
   "execution_count": null,
   "id": "f391d73a",
   "metadata": {
    "scrolled": true
   },
   "outputs": [],
   "source": [
    "# rows = [row for row in soup.find_all(\"span\",class_=\"YouTubeUserTopLight\")]\n",
    "# rows"
   ]
  },
  {
   "cell_type": "code",
   "execution_count": null,
   "id": "7d3a533e",
   "metadata": {},
   "outputs": [],
   "source": [
    "# soup.find_all(\"span\",class_=\"YouTubeUserTopLight\")[0].text"
   ]
  },
  {
   "cell_type": "code",
   "execution_count": null,
   "id": "4b82022e",
   "metadata": {},
   "outputs": [],
   "source": [
    "# rows = [row for row in soup.find_all(\"span\",style=\"font-weight: bold;\")] \n",
    "# rows[0:6]"
   ]
  },
  {
   "cell_type": "code",
   "execution_count": null,
   "id": "317971ca",
   "metadata": {},
   "outputs": [],
   "source": [
    "# list_columns=[]\n",
    "# for i in soup.find_all(\"span\",class_=\"YouTubeUserTopLight\"):\n",
    "#         list_columns.append(i.get_text())\n",
    "# print(list_columns)"
   ]
  },
  {
   "cell_type": "code",
   "execution_count": null,
   "id": "b47ca2a0",
   "metadata": {},
   "outputs": [],
   "source": [
    "# list_req0=[]\n",
    "# for i in soup.find_all(\"span\",style=\"font-weight: bold;\"):\n",
    "#         list_req0.append(i.get_text())\n",
    "# print(list_req0)"
   ]
  },
  {
   "cell_type": "code",
   "execution_count": null,
   "id": "78a35450",
   "metadata": {},
   "outputs": [],
   "source": [
    "def getcolumns(soup,name):\n",
    "    list_columns=[]\n",
    "    for i in soup.find_all(\"span\",class_=\"YouTubeUserTopLight\"):\n",
    "        list_columns.append(i.get_text())\n",
    "\n",
    "    list_req=[]\n",
    "    for i in soup.find_all(\"span\",style=\"font-weight: bold;\"):\n",
    "        list_req.append(i.get_text())\n",
    "\n",
    "    name[list_columns] = list_req\n",
    "    \n",
    "    return name"
   ]
  },
  {
   "cell_type": "code",
   "execution_count": null,
   "id": "4d810474",
   "metadata": {},
   "outputs": [],
   "source": [
    "getcolumns(soup,top4_df)"
   ]
  }
 ],
 "metadata": {
  "kernelspec": {
   "display_name": "Python 3",
   "language": "python",
   "name": "python3"
  },
  "language_info": {
   "codemirror_mode": {
    "name": "ipython",
    "version": 3
   },
   "file_extension": ".py",
   "mimetype": "text/x-python",
   "name": "python",
   "nbconvert_exporter": "python",
   "pygments_lexer": "ipython3",
   "version": "3.8.8"
  }
 },
 "nbformat": 4,
 "nbformat_minor": 5
}
