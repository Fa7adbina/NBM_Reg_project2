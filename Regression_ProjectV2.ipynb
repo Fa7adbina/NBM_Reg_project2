{
 "cells": [
  {
   "cell_type": "code",
   "execution_count": 1,
   "id": "5f9c4861",
   "metadata": {},
   "outputs": [],
   "source": [
    "from bs4 import BeautifulSoup\n",
    "import requests\n",
    "import re\n",
    "import seaborn as sns\n",
    "import pandas as pd\n",
    "import numpy as np\n",
    "import os\n",
    "from prophet import Prophet\n",
    "from prophet.diagnostics import cross_validation\n",
    "from prophet.diagnostics import performance_metrics\n",
    "import json\n",
    "import urllib.request\n",
    "from sklearn.metrics import r2_score\n",
    "from prophet.plot import plot_cross_validation_metric\n",
    "import matplotlib.pyplot as plt\n",
    "# from sklearn.model_selection import TimeSeriesSplit"
   ]
  },
  {
   "cell_type": "code",
   "execution_count": 2,
   "id": "b8a8c63c",
   "metadata": {},
   "outputs": [],
   "source": [
    "# class YoutubeChannel():\n",
    "#     def __init__(self,ChannelUrl):\n",
    "#         self.dailySubscribers = allData[[\"Date\",\"DailySubscribers\"]]\n",
    "#         self.totalSubscribers = allData[[\"Date\",\"TotalSubscribers\"]]\n",
    "#         self.dailyVideoViews = allData[[\"Date\",\"DailyVideoViews\"]]\n",
    "#         self.totalVideoViews = allData[[\"Date\",\"TotalVideoViews\"]]\n",
    "#         self.allData = getAllCharts()"
   ]
  },
  {
   "cell_type": "code",
   "execution_count": 3,
   "id": "2e8eeff1",
   "metadata": {},
   "outputs": [],
   "source": [
    "links = [\"https://web.archive.org/web/20190524171902/https://socialblade.com/youtube/user/mmoshaya/monthly\",\n",
    "        \"https://web.archive.org/web/20190524075036/https://socialblade.com/youtube/user/arabgamesnetwork/monthly\",\n",
    "         \"https://web.archive.org/web/20190830014628/https://socialblade.com/youtube/channel/UCBzrJ1zGf9-0cd5-n7sBraQ/monthly\",\n",
    "        \"https://web.archive.org/web/20190524134324/https://socialblade.com/youtube/channel/UCqJNTGwKmgMCwfYDbnz514Q/monthly\",\n",
    "        \"https://web.archive.org/web/20190525094206/https://socialblade.com/youtube/user/banderitax/monthly\",\n",
    "        \"https://web.archive.org/web/20190830022605/https://socialblade.com/youtube/channel/UCPvLEc3la6Q2MdlCXzKRRPg/monthly\"]"
   ]
  },
  {
   "cell_type": "code",
   "execution_count": 4,
   "id": "c8d994a4",
   "metadata": {},
   "outputs": [],
   "source": [
    "new_links = [\"https://socialblade.com/youtube/user/mmoshaya/monthly\",\n",
    "            \"https://socialblade.com/youtube/user/arabgamesnetwork/monthly\",\n",
    "            \"https://socialblade.com/youtube/channel/UCBzrJ1zGf9-0cd5-n7sBraQ/monthly\",\n",
    "            \"https://socialblade.com/youtube/channel/UCqJNTGwKmgMCwfYDbnz514Q/monthly\",\n",
    "            \"https://socialblade.com/youtube/user/banderitax/monthly\",\n",
    "            \"https://socialblade.com/youtube/channel/UCPvLEc3la6Q2MdlCXzKRRPg/monthly\"]"
   ]
  },
  {
   "cell_type": "code",
   "execution_count": 5,
   "id": "98fa41dd",
   "metadata": {},
   "outputs": [],
   "source": [
    "# save req to html file if not found\n",
    "for i in range(len(links)):\n",
    "    if f\"req{i}.html\" not in os.listdir('.'):\n",
    "        open(\"req\"+str(i)+\".html\",\"w\",encoding=\"UTF-8\").write(requests.get(links[i]).text)"
   ]
  },
  {
   "cell_type": "code",
   "execution_count": 6,
   "id": "1c389b62",
   "metadata": {},
   "outputs": [],
   "source": [
    "# save new req to html file if not found\n",
    "for i in range(len(new_links)):\n",
    "    if f\"new_req{i}.html\" not in os.listdir('.'):\n",
    "        opener = urllib.request.build_opener()\n",
    "        opener.addheaders = [('User-agent', 'Mozilla/5.0')]\n",
    "        response = str(opener.open(new_links[i]).read())\n",
    "        open(\"new_req\"+str(i)+\".html\",\"w\").write(response)"
   ]
  },
  {
   "cell_type": "code",
   "execution_count": 7,
   "id": "01b1dc51",
   "metadata": {},
   "outputs": [],
   "source": [
    "# read files from  disk - files name: req0.html .... req4.html\n",
    "resText = [open(\"req\"+str(i)+\".html\",\"r\",encoding=\"UTF-8\").read() for i in range(len(links))]\n",
    "# read files from  disk - files name: new_req0.html .... new_req4.html\n",
    "new_resText = [open(\"new_req\"+str(i)+\".html\",\"r\").read() for i in range(len(new_links))]"
   ]
  },
  {
   "cell_type": "code",
   "execution_count": 8,
   "id": "5ffd33b9",
   "metadata": {},
   "outputs": [],
   "source": [
    "def getChartData(soup,chart_name):\n",
    "    ds_element = soup.find(\"div\",{\"id\":chart_name}).next_element.next_element.text\n",
    "    regex = \"[0-9]+-[0-9]+-[0-9]+,[0-9]+\"\n",
    "    dailySub = [i.split(\",\") for i in re.findall(regex,ds_element)]\n",
    "    Date = pd.Series([i[0] for i in dailySub])\n",
    "    count = pd.Series([i[1] for i in dailySub])\n",
    "    return pd.DataFrame({\n",
    "        \"Date\":Date.astype(np.datetime64),\n",
    "        chart_name:count.astype(np.int64)\n",
    "        })"
   ]
  },
  {
   "cell_type": "code",
   "execution_count": 9,
   "id": "cec78580",
   "metadata": {},
   "outputs": [],
   "source": [
    "def getDailySubscribers(soup):\n",
    "    '''\n",
    "    return dataframe contains date and dailySubscribers for the given soup\n",
    "    '''\n",
    "    return getChartData(soup,\"DailySubscribers\")"
   ]
  },
  {
   "cell_type": "code",
   "execution_count": 10,
   "id": "9df6e42b",
   "metadata": {},
   "outputs": [],
   "source": [
    "def getTotalSubscribers(soup):\n",
    "    '''\n",
    "    return dataframe contains date and totalSubscribers for the given soup\n",
    "    '''\n",
    "    return getChartData(soup,\"TotalSubscribers\")"
   ]
  },
  {
   "cell_type": "code",
   "execution_count": 11,
   "id": "96f99380",
   "metadata": {},
   "outputs": [],
   "source": [
    "def getDailyVideoViews(soup):\n",
    "    '''\n",
    "    return dataframe contains date and dailyVideoViews for the given soup\n",
    "    '''\n",
    "    return getChartData(soup,\"DailyVideoViews\")"
   ]
  },
  {
   "cell_type": "code",
   "execution_count": 12,
   "id": "c06bae99",
   "metadata": {},
   "outputs": [],
   "source": [
    "def getTotalVideoViews(soup):\n",
    "    '''\n",
    "    return dataframe contains date and totalVideoViews for the given soup\n",
    "    '''\n",
    "    return getChartData(soup,\"TotalVideoViews\")"
   ]
  },
  {
   "cell_type": "code",
   "execution_count": 13,
   "id": "bbc1361e",
   "metadata": {},
   "outputs": [],
   "source": [
    "def getAllCharts(soup):\n",
    "    '''\n",
    "    return dataframe contains date, dailySubscribers, totalSubscribers, dailyVideoViews and totalVideoViews for the given soup\n",
    "    '''\n",
    "    ds = getDailySubscribers(soup)\n",
    "    ts = getTotalSubscribers(soup)\n",
    "    dv = getDailyVideoViews(soup)\n",
    "    tv = getTotalVideoViews(soup)\n",
    "    return ds.merge(ts,on=\"Date\").merge(dv,on=\"Date\").merge(tv,on=\"Date\")"
   ]
  },
  {
   "cell_type": "code",
   "execution_count": 14,
   "id": "d0ac82da",
   "metadata": {},
   "outputs": [],
   "source": [
    "def getAllCharts_newlinks(response):\n",
    "    allCharts = [json.loads(l[0]) for l in re.findall('(\\[(\\[\\d+,-?\\d+\\],?)+\\])',response)]\n",
    "    col = re.findall('title: { text: \\\\\\\\\\'([\\w|\\s]+) for',response)\n",
    "    date1 = pd.Series([i[0] for i in allCharts[0]])\n",
    "    weeklyGainedSubsAndViews = pd.DataFrame({\n",
    "        \"Date\": pd.to_datetime(date1,unit=\"ms\"),#.dt.date, #parse Date from timestamp to date\n",
    "        col[0]: [i[1] for i in allCharts[0]],\n",
    "        col[1]: [i[1] for i in allCharts[1]],\n",
    "    })\n",
    "\n",
    "    date2 = pd.Series([i[0] for i in allCharts[2]])\n",
    "    monthlyTotoalSubsAndViews = pd.DataFrame({\n",
    "        \"Date\": pd.to_datetime(date2,unit=\"ms\"),#.dt.date, #parse Date from timestamp to date\n",
    "        \"TotalSubscribers\": [i[1] for i in allCharts[2]],\n",
    "        \"TotalVideoViews\": [i[1] for i in allCharts[3]],\n",
    "    })\n",
    "\n",
    "    date3 = pd.Series([i[0] for i in allCharts[4]])\n",
    "    weeklyTotoalSubsAndViews = pd.DataFrame({\n",
    "        \"Date\": pd.to_datetime(date3,unit=\"ms\"),#.dt.date, #parse Date from timestamp to date\n",
    "        \"TotalSubscribers\": [i[1] for i in allCharts[4]],\n",
    "        \"TotalVideoViews\": [i[1] for i in allCharts[5]],\n",
    "    })\n",
    "    return [weeklyGainedSubsAndViews,monthlyTotoalSubsAndViews,weeklyTotoalSubsAndViews]"
   ]
  },
  {
   "cell_type": "code",
   "execution_count": 15,
   "id": "a0abcbff",
   "metadata": {},
   "outputs": [],
   "source": [
    "def concatOldDataWithNew(old_df,new_df):\n",
    "    concated = pd.concat([old_df[[\"Date\",\"TotalSubscribers\",\"TotalVideoViews\"]],new_df[1],new_df[2]])\n",
    "    return concated.sort_values(by=\"Date\",ignore_index=True) # sort by date and reset index"
   ]
  },
  {
   "cell_type": "code",
   "execution_count": 16,
   "id": "484ae4b6",
   "metadata": {},
   "outputs": [],
   "source": [
    "soups = [BeautifulSoup(r,\"html5lib\") for r in resText]"
   ]
  },
  {
   "cell_type": "code",
   "execution_count": 17,
   "id": "6c4c9b91",
   "metadata": {},
   "outputs": [],
   "source": [
    "channels_df = [getAllCharts(soup) for soup in soups]"
   ]
  },
  {
   "cell_type": "code",
   "execution_count": 18,
   "id": "924a9103",
   "metadata": {},
   "outputs": [],
   "source": [
    "new_channels_df = [getAllCharts_newlinks(r) for r in new_resText]"
   ]
  },
  {
   "cell_type": "code",
   "execution_count": 19,
   "id": "141b7d18",
   "metadata": {},
   "outputs": [],
   "source": [
    "top1_df = concatOldDataWithNew(channels_df[0], new_channels_df[0]) # top 1 channel df\n",
    "top2_df = concatOldDataWithNew(channels_df[1], new_channels_df[1]) # top 2 channel df\n",
    "top3_df = concatOldDataWithNew(channels_df[2], new_channels_df[2]) # top 3 channel df\n",
    "# top4_df = concatOldDataWithNew(channels_df[3], new_channels_df[3]) # top 4 channel df شلناها لان عدد الروز قليل\n",
    "top4_df = concatOldDataWithNew(channels_df[4], new_channels_df[4]) # top 4 channel df\n",
    "top5_df = concatOldDataWithNew(channels_df[5], new_channels_df[5]) # top 4 channel df"
   ]
  },
  {
   "cell_type": "code",
   "execution_count": 20,
   "id": "afcec65c",
   "metadata": {},
   "outputs": [
    {
     "data": {
      "text/html": [
       "<div>\n",
       "<style scoped>\n",
       "    .dataframe tbody tr th:only-of-type {\n",
       "        vertical-align: middle;\n",
       "    }\n",
       "\n",
       "    .dataframe tbody tr th {\n",
       "        vertical-align: top;\n",
       "    }\n",
       "\n",
       "    .dataframe thead th {\n",
       "        text-align: right;\n",
       "    }\n",
       "</style>\n",
       "<table border=\"1\" class=\"dataframe\">\n",
       "  <thead>\n",
       "    <tr style=\"text-align: right;\">\n",
       "      <th></th>\n",
       "      <th>Date</th>\n",
       "      <th>TotalSubscribers</th>\n",
       "      <th>TotalVideoViews</th>\n",
       "    </tr>\n",
       "  </thead>\n",
       "  <tbody>\n",
       "    <tr>\n",
       "      <th>0</th>\n",
       "      <td>2016-05-26 00:00:00</td>\n",
       "      <td>576989</td>\n",
       "      <td>157540838</td>\n",
       "    </tr>\n",
       "    <tr>\n",
       "      <th>1</th>\n",
       "      <td>2016-05-27 00:00:00</td>\n",
       "      <td>579557</td>\n",
       "      <td>157540838</td>\n",
       "    </tr>\n",
       "    <tr>\n",
       "      <th>2</th>\n",
       "      <td>2016-05-28 00:00:00</td>\n",
       "      <td>583261</td>\n",
       "      <td>160354910</td>\n",
       "    </tr>\n",
       "    <tr>\n",
       "      <th>3</th>\n",
       "      <td>2016-05-29 00:00:00</td>\n",
       "      <td>586661</td>\n",
       "      <td>160354910</td>\n",
       "    </tr>\n",
       "    <tr>\n",
       "      <th>4</th>\n",
       "      <td>2016-05-30 00:00:00</td>\n",
       "      <td>589832</td>\n",
       "      <td>162164368</td>\n",
       "    </tr>\n",
       "    <tr>\n",
       "      <th>...</th>\n",
       "      <td>...</td>\n",
       "      <td>...</td>\n",
       "      <td>...</td>\n",
       "    </tr>\n",
       "    <tr>\n",
       "      <th>1167</th>\n",
       "      <td>2021-08-22 04:00:00</td>\n",
       "      <td>20700000</td>\n",
       "      <td>14325689190</td>\n",
       "    </tr>\n",
       "    <tr>\n",
       "      <th>1168</th>\n",
       "      <td>2021-08-30 04:00:00</td>\n",
       "      <td>20700000</td>\n",
       "      <td>14383429638</td>\n",
       "    </tr>\n",
       "    <tr>\n",
       "      <th>1169</th>\n",
       "      <td>2021-09-07 04:00:00</td>\n",
       "      <td>20800000</td>\n",
       "      <td>14438577050</td>\n",
       "    </tr>\n",
       "    <tr>\n",
       "      <th>1170</th>\n",
       "      <td>2021-09-15 04:00:00</td>\n",
       "      <td>20800000</td>\n",
       "      <td>14492005633</td>\n",
       "    </tr>\n",
       "    <tr>\n",
       "      <th>1171</th>\n",
       "      <td>2021-09-22 04:00:00</td>\n",
       "      <td>20900000</td>\n",
       "      <td>14529025594</td>\n",
       "    </tr>\n",
       "  </tbody>\n",
       "</table>\n",
       "<p>1172 rows × 3 columns</p>\n",
       "</div>"
      ],
      "text/plain": [
       "                    Date  TotalSubscribers  TotalVideoViews\n",
       "0    2016-05-26 00:00:00            576989        157540838\n",
       "1    2016-05-27 00:00:00            579557        157540838\n",
       "2    2016-05-28 00:00:00            583261        160354910\n",
       "3    2016-05-29 00:00:00            586661        160354910\n",
       "4    2016-05-30 00:00:00            589832        162164368\n",
       "...                  ...               ...              ...\n",
       "1167 2021-08-22 04:00:00          20700000      14325689190\n",
       "1168 2021-08-30 04:00:00          20700000      14383429638\n",
       "1169 2021-09-07 04:00:00          20800000      14438577050\n",
       "1170 2021-09-15 04:00:00          20800000      14492005633\n",
       "1171 2021-09-22 04:00:00          20900000      14529025594\n",
       "\n",
       "[1172 rows x 3 columns]"
      ]
     },
     "execution_count": 20,
     "metadata": {},
     "output_type": "execute_result"
    }
   ],
   "source": [
    "top1_df"
   ]
  },
  {
   "cell_type": "code",
   "execution_count": 21,
   "id": "9b530963",
   "metadata": {},
   "outputs": [],
   "source": [
    "# top1_df = channels_df[0] # top 1 channel df\n",
    "# top2_df = channels_df[1] # top 2 channel df\n",
    "# top3_df = channels_df[2] # top 3 channel df\n",
    "# # top4_df = channels_df[3] # top 4 channel df شلناها لان عدد الروز قليل\n",
    "# top4_df = channels_df[4] # top 4 channel df\n",
    "# top5_df = channels_df[5] # top 4 channel df"
   ]
  },
  {
   "cell_type": "code",
   "execution_count": 22,
   "id": "8ccc0789",
   "metadata": {},
   "outputs": [],
   "source": [
    "# X_y = top1_df[[\"Date\",\"TotalSubscribers\"]]#[top1_df[\"DailyVideoViews\"] != 0]\n",
    "# X_y.columns = [\"ds\",\"y\"]\n",
    "# m = Prophet(daily_seasonality=True)\n",
    "# m.fit(X_y)"
   ]
  },
  {
   "cell_type": "code",
   "execution_count": 23,
   "id": "1b79da9d",
   "metadata": {},
   "outputs": [],
   "source": [
    "# future = m.make_future_dataframe(periods=365)"
   ]
  },
  {
   "cell_type": "code",
   "execution_count": 24,
   "id": "86bfdfaa",
   "metadata": {},
   "outputs": [],
   "source": [
    "# forecast = m.predict(future)"
   ]
  },
  {
   "cell_type": "code",
   "execution_count": 25,
   "id": "af154ee9",
   "metadata": {
    "scrolled": true
   },
   "outputs": [],
   "source": [
    "# forecast[['ds', 'yhat', 'yhat_lower', 'yhat_upper']].tail()"
   ]
  },
  {
   "cell_type": "code",
   "execution_count": 26,
   "id": "8f250846",
   "metadata": {},
   "outputs": [],
   "source": [
    "# forecast[['ds', 'yhat', 'yhat_lower', 'yhat_upper']].tail()"
   ]
  },
  {
   "cell_type": "code",
   "execution_count": 27,
   "id": "1ea999c2",
   "metadata": {},
   "outputs": [],
   "source": [
    "#  m.plot_components(forecast)"
   ]
  },
  {
   "cell_type": "code",
   "execution_count": 28,
   "id": "c498bd74",
   "metadata": {},
   "outputs": [],
   "source": [
    "# sns.pairplot(top1_df)"
   ]
  },
  {
   "cell_type": "code",
   "execution_count": 29,
   "id": "2d3c87f0",
   "metadata": {},
   "outputs": [],
   "source": [
    "# total number of rows\n",
    "# total = 0\n",
    "# for c in [top1_df,top2_df,top3_df,top4_df,top5_df]:\n",
    "#     total += len(c)\n",
    "# print(f\"the total number of rows is {total}\")"
   ]
  },
  {
   "cell_type": "code",
   "execution_count": 30,
   "id": "5c9c7ce8",
   "metadata": {},
   "outputs": [],
   "source": [
    "# for c in [top1_df,top2_df,top3_df,top4_df,top5_df]:\n",
    "#     print(c.info())"
   ]
  },
  {
   "cell_type": "code",
   "execution_count": 31,
   "id": "a4ad0cf3",
   "metadata": {},
   "outputs": [],
   "source": [
    "# nonZero = channels_df[0][channels_df[0].DailyVideoViews != 0]"
   ]
  },
  {
   "cell_type": "code",
   "execution_count": 32,
   "id": "79289e9f",
   "metadata": {},
   "outputs": [],
   "source": [
    "# nonZero.join(nonZero.Date.dt.isocalendar()).groupby([\"year\",\"week\"]).day.count().value_counts()"
   ]
  },
  {
   "cell_type": "code",
   "execution_count": 33,
   "id": "8904ec67",
   "metadata": {},
   "outputs": [],
   "source": [
    "# channels_df[0].join(channels_df[0].Date.dt.isocalendar()).groupby([\"year\",\"week\"]).day.count().value_counts()"
   ]
  },
  {
   "cell_type": "code",
   "execution_count": 34,
   "id": "6cb87f86",
   "metadata": {},
   "outputs": [],
   "source": [
    "# iso = channels_df[0].join(channels_df[0].Date.dt.isocalendar())\n",
    "# # iso.where(iso.day == 1).first_valid_index()\n",
    "# s = iso[iso.day ==1].iloc[0].name\n",
    "# e = iso[iso.day ==7].iloc[-1].name\n"
   ]
  },
  {
   "cell_type": "code",
   "execution_count": 35,
   "id": "1ac23950",
   "metadata": {},
   "outputs": [],
   "source": [
    "# iso.iloc[s:e+1].groupby([\"year\",\"week\"]).day.count().value_counts()"
   ]
  },
  {
   "cell_type": "code",
   "execution_count": 36,
   "id": "8fb4e680",
   "metadata": {},
   "outputs": [],
   "source": [
    "# (new_channels_df[0][0].Date.dt.isocalendar().day == 1).value_counts()"
   ]
  },
  {
   "cell_type": "code",
   "execution_count": 39,
   "id": "0efb8b75",
   "metadata": {},
   "outputs": [
    {
     "name": "stderr",
     "output_type": "stream",
     "text": [
      "INFO:numexpr.utils:NumExpr defaulting to 8 threads.\n",
      "INFO:prophet:Disabling daily seasonality. Run prophet with daily_seasonality=True to override this.\n",
      "INFO:prophet:Disabling daily seasonality. Run prophet with daily_seasonality=True to override this.\n",
      "INFO:prophet:Disabling daily seasonality. Run prophet with daily_seasonality=True to override this.\n"
     ]
    }
   ],
   "source": [
    "ys_yhats = []\n",
    "for c in [top1_df,top2_df,top3_df,top4_df,top5_df]:\n",
    "    X_y = c[[\"Date\",\"TotalSubscribers\"]]#[top1_df[\"DailyVideoViews\"] != 0]\n",
    "    X_y.columns = [\"ds\",\"y\"]\n",
    "    md = Prophet()\n",
    "    md.fit(X_y.drop_duplicates(subset=\"y\"))\n",
    "            ############# Training #############\n",
    "    future = md.make_future_dataframe(0)\n",
    "    forecast = md.predict(future)\n",
    "    ys_yhats.append(X_y.merge(forecast[[\"ds\",\"yhat\"]],on=\"ds\"))"
   ]
  },
  {
   "cell_type": "code",
   "execution_count": 40,
   "id": "50a908eb",
   "metadata": {},
   "outputs": [
    {
     "name": "stderr",
     "output_type": "stream",
     "text": [
      "INFO:prophet:Disabling daily seasonality. Run prophet with daily_seasonality=True to override this.\n",
      "INFO:prophet:Making 15 forecasts with cutoffs between 2018-01-01 04:00:00 and 2021-04-05 04:00:00\n"
     ]
    },
    {
     "data": {
      "application/vnd.jupyter.widget-view+json": {
       "model_id": "ca7fca0f79734efcb53abae6119f9f55",
       "version_major": 2,
       "version_minor": 0
      },
      "text/plain": [
       "  0%|          | 0/15 [00:00<?, ?it/s]"
      ]
     },
     "metadata": {},
     "output_type": "display_data"
    },
    {
     "name": "stderr",
     "output_type": "stream",
     "text": [
      "INFO:prophet:Making 15 forecasts with cutoffs between 2018-01-01 04:00:00 and 2021-04-05 04:00:00\n"
     ]
    },
    {
     "data": {
      "application/vnd.jupyter.widget-view+json": {
       "model_id": "0060883c746e4f54a6ff48f5272ed43b",
       "version_major": 2,
       "version_minor": 0
      },
      "text/plain": [
       "  0%|          | 0/15 [00:00<?, ?it/s]"
      ]
     },
     "metadata": {},
     "output_type": "display_data"
    },
    {
     "name": "stderr",
     "output_type": "stream",
     "text": [
      "INFO:prophet:Making 14 forecasts with cutoffs between 2018-03-12 04:00:00 and 2021-03-21 04:00:00\n"
     ]
    },
    {
     "data": {
      "application/vnd.jupyter.widget-view+json": {
       "model_id": "f6d83b810569489caf6005fc537786f6",
       "version_major": 2,
       "version_minor": 0
      },
      "text/plain": [
       "  0%|          | 0/14 [00:00<?, ?it/s]"
      ]
     },
     "metadata": {},
     "output_type": "display_data"
    },
    {
     "name": "stderr",
     "output_type": "stream",
     "text": [
      "INFO:prophet:Disabling daily seasonality. Run prophet with daily_seasonality=True to override this.\n",
      "INFO:prophet:Making 15 forecasts with cutoffs between 2017-12-17 04:00:00 and 2021-03-21 04:00:00\n"
     ]
    },
    {
     "data": {
      "application/vnd.jupyter.widget-view+json": {
       "model_id": "e831f5ddd91444e4ac016b97ec21e29c",
       "version_major": 2,
       "version_minor": 0
      },
      "text/plain": [
       "  0%|          | 0/15 [00:00<?, ?it/s]"
      ]
     },
     "metadata": {},
     "output_type": "display_data"
    },
    {
     "name": "stderr",
     "output_type": "stream",
     "text": [
      "INFO:prophet:Disabling daily seasonality. Run prophet with daily_seasonality=True to override this.\n",
      "INFO:prophet:Making 13 forecasts with cutoffs between 2018-06-20 04:00:00 and 2021-04-05 04:00:00\n"
     ]
    },
    {
     "data": {
      "application/vnd.jupyter.widget-view+json": {
       "model_id": "5ec6f79f22844666a8eba3a6de462ad4",
       "version_major": 2,
       "version_minor": 0
      },
      "text/plain": [
       "  0%|          | 0/13 [00:00<?, ?it/s]"
      ]
     },
     "metadata": {},
     "output_type": "display_data"
    }
   ],
   "source": [
    "df_cv = []\n",
    "for c in [top1_df,top2_df,top3_df,top4_df,top5_df]:\n",
    "    X_y = c[[\"Date\",\"TotalSubscribers\"]]#[top1_df[\"DailyVideoViews\"] != 0]\n",
    "    X_y.columns = [\"ds\",\"y\"]\n",
    "    md = Prophet()\n",
    "    md.fit(X_y.drop_duplicates(subset=\"y\"))\n",
    "        ############ Validation #############\n",
    "    df_cv.append(cross_validation(md,horizon = '170 days'))"
   ]
  },
  {
   "cell_type": "markdown",
   "id": "9ae9d0d9",
   "metadata": {},
   "source": [
    "## Validation Plots"
   ]
  },
  {
   "cell_type": "code",
   "execution_count": 55,
   "id": "4b6189c8",
   "metadata": {},
   "outputs": [
    {
     "data": {
      "text/html": [
       "<div>\n",
       "<style scoped>\n",
       "    .dataframe tbody tr th:only-of-type {\n",
       "        vertical-align: middle;\n",
       "    }\n",
       "\n",
       "    .dataframe tbody tr th {\n",
       "        vertical-align: top;\n",
       "    }\n",
       "\n",
       "    .dataframe thead th {\n",
       "        text-align: right;\n",
       "    }\n",
       "</style>\n",
       "<table border=\"1\" class=\"dataframe\">\n",
       "  <thead>\n",
       "    <tr style=\"text-align: right;\">\n",
       "      <th></th>\n",
       "      <th>ds</th>\n",
       "      <th>yhat</th>\n",
       "      <th>yhat_lower</th>\n",
       "      <th>yhat_upper</th>\n",
       "      <th>y</th>\n",
       "      <th>cutoff</th>\n",
       "    </tr>\n",
       "  </thead>\n",
       "  <tbody>\n",
       "    <tr>\n",
       "      <th>0</th>\n",
       "      <td>2018-03-13 00:00:00</td>\n",
       "      <td>2.374099e+06</td>\n",
       "      <td>2.367176e+06</td>\n",
       "      <td>2.381384e+06</td>\n",
       "      <td>2369254</td>\n",
       "      <td>2018-03-12 04:00:00</td>\n",
       "    </tr>\n",
       "    <tr>\n",
       "      <th>1</th>\n",
       "      <td>2018-03-14 00:00:00</td>\n",
       "      <td>2.381606e+06</td>\n",
       "      <td>2.373946e+06</td>\n",
       "      <td>2.389252e+06</td>\n",
       "      <td>2376350</td>\n",
       "      <td>2018-03-12 04:00:00</td>\n",
       "    </tr>\n",
       "    <tr>\n",
       "      <th>2</th>\n",
       "      <td>2018-03-15 00:00:00</td>\n",
       "      <td>2.388260e+06</td>\n",
       "      <td>2.380945e+06</td>\n",
       "      <td>2.395696e+06</td>\n",
       "      <td>2383130</td>\n",
       "      <td>2018-03-12 04:00:00</td>\n",
       "    </tr>\n",
       "    <tr>\n",
       "      <th>3</th>\n",
       "      <td>2018-03-16 00:00:00</td>\n",
       "      <td>2.396078e+06</td>\n",
       "      <td>2.388536e+06</td>\n",
       "      <td>2.403794e+06</td>\n",
       "      <td>2391931</td>\n",
       "      <td>2018-03-12 04:00:00</td>\n",
       "    </tr>\n",
       "    <tr>\n",
       "      <th>4</th>\n",
       "      <td>2018-03-17 00:00:00</td>\n",
       "      <td>2.403502e+06</td>\n",
       "      <td>2.395772e+06</td>\n",
       "      <td>2.410891e+06</td>\n",
       "      <td>2399518</td>\n",
       "      <td>2018-03-12 04:00:00</td>\n",
       "    </tr>\n",
       "    <tr>\n",
       "      <th>...</th>\n",
       "      <td>...</td>\n",
       "      <td>...</td>\n",
       "      <td>...</td>\n",
       "      <td>...</td>\n",
       "      <td>...</td>\n",
       "      <td>...</td>\n",
       "    </tr>\n",
       "    <tr>\n",
       "      <th>1005</th>\n",
       "      <td>2021-04-08 04:00:00</td>\n",
       "      <td>1.406452e+07</td>\n",
       "      <td>1.401072e+07</td>\n",
       "      <td>1.412016e+07</td>\n",
       "      <td>13800000</td>\n",
       "      <td>2021-03-21 04:00:00</td>\n",
       "    </tr>\n",
       "    <tr>\n",
       "      <th>1006</th>\n",
       "      <td>2021-05-01 04:00:00</td>\n",
       "      <td>1.440108e+07</td>\n",
       "      <td>1.427670e+07</td>\n",
       "      <td>1.453949e+07</td>\n",
       "      <td>13900000</td>\n",
       "      <td>2021-03-21 04:00:00</td>\n",
       "    </tr>\n",
       "    <tr>\n",
       "      <th>1007</th>\n",
       "      <td>2021-06-11 04:00:00</td>\n",
       "      <td>1.494729e+07</td>\n",
       "      <td>1.457850e+07</td>\n",
       "      <td>1.534028e+07</td>\n",
       "      <td>14000000</td>\n",
       "      <td>2021-03-21 04:00:00</td>\n",
       "    </tr>\n",
       "    <tr>\n",
       "      <th>1008</th>\n",
       "      <td>2021-07-29 04:00:00</td>\n",
       "      <td>1.546978e+07</td>\n",
       "      <td>1.472347e+07</td>\n",
       "      <td>1.621910e+07</td>\n",
       "      <td>14100000</td>\n",
       "      <td>2021-03-21 04:00:00</td>\n",
       "    </tr>\n",
       "    <tr>\n",
       "      <th>1009</th>\n",
       "      <td>2021-09-07 04:00:00</td>\n",
       "      <td>1.569180e+07</td>\n",
       "      <td>1.464197e+07</td>\n",
       "      <td>1.672640e+07</td>\n",
       "      <td>14200000</td>\n",
       "      <td>2021-03-21 04:00:00</td>\n",
       "    </tr>\n",
       "  </tbody>\n",
       "</table>\n",
       "<p>1010 rows × 6 columns</p>\n",
       "</div>"
      ],
      "text/plain": [
       "                      ds          yhat    yhat_lower    yhat_upper         y  \\\n",
       "0    2018-03-13 00:00:00  2.374099e+06  2.367176e+06  2.381384e+06   2369254   \n",
       "1    2018-03-14 00:00:00  2.381606e+06  2.373946e+06  2.389252e+06   2376350   \n",
       "2    2018-03-15 00:00:00  2.388260e+06  2.380945e+06  2.395696e+06   2383130   \n",
       "3    2018-03-16 00:00:00  2.396078e+06  2.388536e+06  2.403794e+06   2391931   \n",
       "4    2018-03-17 00:00:00  2.403502e+06  2.395772e+06  2.410891e+06   2399518   \n",
       "...                  ...           ...           ...           ...       ...   \n",
       "1005 2021-04-08 04:00:00  1.406452e+07  1.401072e+07  1.412016e+07  13800000   \n",
       "1006 2021-05-01 04:00:00  1.440108e+07  1.427670e+07  1.453949e+07  13900000   \n",
       "1007 2021-06-11 04:00:00  1.494729e+07  1.457850e+07  1.534028e+07  14000000   \n",
       "1008 2021-07-29 04:00:00  1.546978e+07  1.472347e+07  1.621910e+07  14100000   \n",
       "1009 2021-09-07 04:00:00  1.569180e+07  1.464197e+07  1.672640e+07  14200000   \n",
       "\n",
       "                  cutoff  \n",
       "0    2018-03-12 04:00:00  \n",
       "1    2018-03-12 04:00:00  \n",
       "2    2018-03-12 04:00:00  \n",
       "3    2018-03-12 04:00:00  \n",
       "4    2018-03-12 04:00:00  \n",
       "...                  ...  \n",
       "1005 2021-03-21 04:00:00  \n",
       "1006 2021-03-21 04:00:00  \n",
       "1007 2021-03-21 04:00:00  \n",
       "1008 2021-03-21 04:00:00  \n",
       "1009 2021-03-21 04:00:00  \n",
       "\n",
       "[1010 rows x 6 columns]"
      ]
     },
     "execution_count": 55,
     "metadata": {},
     "output_type": "execute_result"
    }
   ],
   "source": [
    "df_cv[2]"
   ]
  },
  {
   "cell_type": "code",
   "execution_count": 56,
   "id": "f7b38be0",
   "metadata": {},
   "outputs": [
    {
     "name": "stdout",
     "output_type": "stream",
     "text": [
      "0.9822519844114705\n",
      "0.9924390640540491\n",
      "0.9784056429221077\n",
      "0.9819448777953901\n",
      "0.9827682515664866\n"
     ]
    },
    {
     "data": {
      "image/png": "[encoded data removed]",
      "text/plain": [
       "<Figure size 432x288 with 1 Axes>"
      ]
     },
     "metadata": {},
     "output_type": "display_data"
    },
    {
     "data": {
      "image/png": "[encoded data removed]",
      "text/plain": [
       "<Figure size 432x288 with 1 Axes>"
      ]
     },
     "metadata": {},
     "output_type": "display_data"
    },
    {
     "data": {
      "image/png": "[encoded data removed]",
      "text/plain": [
       "<Figure size 432x288 with 1 Axes>"
      ]
     },
     "metadata": {},
     "output_type": "display_data"
    },
    {
     "data": {
      "image/png": "[encoded data removed]",
      "text/plain": [
       "<Figure size 432x288 with 1 Axes>"
      ]
     },
     "metadata": {},
     "output_type": "display_data"
    },
    {
     "data": {
      "image/png": "[encoded data removed]",
      "text/plain": [
       "<Figure size 432x288 with 1 Axes>"
      ]
     },
     "metadata": {},
     "output_type": "display_data"
    },
    {
     "data": {
      "text/plain": [
       "<Figure size 432x288 with 0 Axes>"
      ]
     },
     "metadata": {},
     "output_type": "display_data"
    }
   ],
   "source": [
    "for df in df_cv:\n",
    "    plt.scatter(df.y,df.yhat)\n",
    "\n",
    "    x_plt_range = [df.y.min(),df.y.max()]\n",
    "    y_plt_range = [df.yhat.min(),df.yhat.max()]\n",
    "    \n",
    "    plt.plot(x_plt_range,y_plt_range,c=\"r\")\n",
    "    \n",
    "    plt.figure()\n",
    "    \n",
    "    print(r2_score(df.y,df.yhat))\n",
    "    \n",
    "    \n",
    "# plt.figure(figsize = [9,6])\n",
    "\n",
    "# plt.grid()\n",
    "# sns.set_style(\"white\")\n",
    "\n",
    "# plt.xlabel(\"WEEKS\",fontsize = 10, weight = 'bold')\n",
    "# plt.ylabel('ENTRY STATION PER WEEK',fontsize = 10, weight = 'bold')\n",
    "# plt.title(\"ENTRY FOR STATION (34 ST-PENN STA) PER WEEK\",fontsize = 15, weight = 'bold')\n",
    "#     plot_cross_validation_metric(df, metric='mae')"
   ]
  },
  {
   "cell_type": "code",
   "execution_count": 59,
   "id": "2fc4c948",
   "metadata": {},
   "outputs": [
    {
     "data": {
      "text/html": [
       "<div>\n",
       "<style scoped>\n",
       "    .dataframe tbody tr th:only-of-type {\n",
       "        vertical-align: middle;\n",
       "    }\n",
       "\n",
       "    .dataframe tbody tr th {\n",
       "        vertical-align: top;\n",
       "    }\n",
       "\n",
       "    .dataframe thead th {\n",
       "        text-align: right;\n",
       "    }\n",
       "</style>\n",
       "<table border=\"1\" class=\"dataframe\">\n",
       "  <thead>\n",
       "    <tr style=\"text-align: right;\">\n",
       "      <th></th>\n",
       "      <th>ds</th>\n",
       "      <th>yhat</th>\n",
       "      <th>yhat_lower</th>\n",
       "      <th>yhat_upper</th>\n",
       "      <th>y</th>\n",
       "      <th>cutoff</th>\n",
       "    </tr>\n",
       "  </thead>\n",
       "  <tbody>\n",
       "    <tr>\n",
       "      <th>0</th>\n",
       "      <td>2018-06-21 00:00:00</td>\n",
       "      <td>1.449965e+06</td>\n",
       "      <td>1.446570e+06</td>\n",
       "      <td>1.453360e+06</td>\n",
       "      <td>1441730</td>\n",
       "      <td>2018-06-20 04:00:00</td>\n",
       "    </tr>\n",
       "    <tr>\n",
       "      <th>1</th>\n",
       "      <td>2018-06-22 00:00:00</td>\n",
       "      <td>1.462660e+06</td>\n",
       "      <td>1.459286e+06</td>\n",
       "      <td>1.466040e+06</td>\n",
       "      <td>1459769</td>\n",
       "      <td>2018-06-20 04:00:00</td>\n",
       "    </tr>\n",
       "    <tr>\n",
       "      <th>2</th>\n",
       "      <td>2018-06-23 00:00:00</td>\n",
       "      <td>1.475374e+06</td>\n",
       "      <td>1.472039e+06</td>\n",
       "      <td>1.478746e+06</td>\n",
       "      <td>1479292</td>\n",
       "      <td>2018-06-20 04:00:00</td>\n",
       "    </tr>\n",
       "    <tr>\n",
       "      <th>3</th>\n",
       "      <td>2018-06-24 00:00:00</td>\n",
       "      <td>1.487789e+06</td>\n",
       "      <td>1.484657e+06</td>\n",
       "      <td>1.491143e+06</td>\n",
       "      <td>1497313</td>\n",
       "      <td>2018-06-20 04:00:00</td>\n",
       "    </tr>\n",
       "    <tr>\n",
       "      <th>4</th>\n",
       "      <td>2018-06-25 00:00:00</td>\n",
       "      <td>1.500198e+06</td>\n",
       "      <td>1.496711e+06</td>\n",
       "      <td>1.503502e+06</td>\n",
       "      <td>1514965</td>\n",
       "      <td>2018-06-20 04:00:00</td>\n",
       "    </tr>\n",
       "    <tr>\n",
       "      <th>...</th>\n",
       "      <td>...</td>\n",
       "      <td>...</td>\n",
       "      <td>...</td>\n",
       "      <td>...</td>\n",
       "      <td>...</td>\n",
       "      <td>...</td>\n",
       "    </tr>\n",
       "    <tr>\n",
       "      <th>901</th>\n",
       "      <td>2021-08-22 04:00:00</td>\n",
       "      <td>1.064410e+07</td>\n",
       "      <td>1.035145e+07</td>\n",
       "      <td>1.093180e+07</td>\n",
       "      <td>9770000</td>\n",
       "      <td>2021-04-05 04:00:00</td>\n",
       "    </tr>\n",
       "    <tr>\n",
       "      <th>902</th>\n",
       "      <td>2021-08-30 04:00:00</td>\n",
       "      <td>1.074527e+07</td>\n",
       "      <td>1.043475e+07</td>\n",
       "      <td>1.105303e+07</td>\n",
       "      <td>9790000</td>\n",
       "      <td>2021-04-05 04:00:00</td>\n",
       "    </tr>\n",
       "    <tr>\n",
       "      <th>903</th>\n",
       "      <td>2021-09-07 04:00:00</td>\n",
       "      <td>1.083715e+07</td>\n",
       "      <td>1.049319e+07</td>\n",
       "      <td>1.116878e+07</td>\n",
       "      <td>9800000</td>\n",
       "      <td>2021-04-05 04:00:00</td>\n",
       "    </tr>\n",
       "    <tr>\n",
       "      <th>904</th>\n",
       "      <td>2021-09-15 04:00:00</td>\n",
       "      <td>1.090487e+07</td>\n",
       "      <td>1.053839e+07</td>\n",
       "      <td>1.127738e+07</td>\n",
       "      <td>9820000</td>\n",
       "      <td>2021-04-05 04:00:00</td>\n",
       "    </tr>\n",
       "    <tr>\n",
       "      <th>905</th>\n",
       "      <td>2021-09-22 04:00:00</td>\n",
       "      <td>1.094646e+07</td>\n",
       "      <td>1.054771e+07</td>\n",
       "      <td>1.133848e+07</td>\n",
       "      <td>9840000</td>\n",
       "      <td>2021-04-05 04:00:00</td>\n",
       "    </tr>\n",
       "  </tbody>\n",
       "</table>\n",
       "<p>906 rows × 6 columns</p>\n",
       "</div>"
      ],
      "text/plain": [
       "                     ds          yhat    yhat_lower    yhat_upper        y  \\\n",
       "0   2018-06-21 00:00:00  1.449965e+06  1.446570e+06  1.453360e+06  1441730   \n",
       "1   2018-06-22 00:00:00  1.462660e+06  1.459286e+06  1.466040e+06  1459769   \n",
       "2   2018-06-23 00:00:00  1.475374e+06  1.472039e+06  1.478746e+06  1479292   \n",
       "3   2018-06-24 00:00:00  1.487789e+06  1.484657e+06  1.491143e+06  1497313   \n",
       "4   2018-06-25 00:00:00  1.500198e+06  1.496711e+06  1.503502e+06  1514965   \n",
       "..                  ...           ...           ...           ...      ...   \n",
       "901 2021-08-22 04:00:00  1.064410e+07  1.035145e+07  1.093180e+07  9770000   \n",
       "902 2021-08-30 04:00:00  1.074527e+07  1.043475e+07  1.105303e+07  9790000   \n",
       "903 2021-09-07 04:00:00  1.083715e+07  1.049319e+07  1.116878e+07  9800000   \n",
       "904 2021-09-15 04:00:00  1.090487e+07  1.053839e+07  1.127738e+07  9820000   \n",
       "905 2021-09-22 04:00:00  1.094646e+07  1.054771e+07  1.133848e+07  9840000   \n",
       "\n",
       "                 cutoff  \n",
       "0   2018-06-20 04:00:00  \n",
       "1   2018-06-20 04:00:00  \n",
       "2   2018-06-20 04:00:00  \n",
       "3   2018-06-20 04:00:00  \n",
       "4   2018-06-20 04:00:00  \n",
       "..                  ...  \n",
       "901 2021-04-05 04:00:00  \n",
       "902 2021-04-05 04:00:00  \n",
       "903 2021-04-05 04:00:00  \n",
       "904 2021-04-05 04:00:00  \n",
       "905 2021-04-05 04:00:00  \n",
       "\n",
       "[906 rows x 6 columns]"
      ]
     },
     "execution_count": 59,
     "metadata": {},
     "output_type": "execute_result"
    }
   ],
   "source": [
    "df_cv[4]"
   ]
  },
  {
   "cell_type": "code",
   "execution_count": 67,
   "id": "be0cacab",
   "metadata": {},
   "outputs": [],
   "source": [
    "def my_func(low,up,leng):\n",
    "    list = []\n",
    "    step = (up - low) / float(leng)\n",
    "    for i in range(leng):\n",
    "        list.append(low)\n",
    "        low = low + step\n",
    "    return list"
   ]
  },
  {
   "cell_type": "code",
   "execution_count": 73,
   "id": "3e0449bc",
   "metadata": {},
   "outputs": [],
   "source": [
    "t=my_func(1441730,9840000,10)"
   ]
  },
  {
   "cell_type": "code",
   "execution_count": 72,
   "id": "9f860efc",
   "metadata": {},
   "outputs": [
    {
     "data": {
      "text/plain": [
       "'[[1441730, 2281557.0, 3121384.0, 3961211.0, 4801038.0, 5640865.0, 6480692.0, 7320519.0, 8160346.0, 9000173.0]]'"
      ]
     },
     "execution_count": 72,
     "metadata": {},
     "output_type": "execute_result"
    }
   ],
   "source": []
  },
  {
   "cell_type": "code",
   "execution_count": 106,
   "id": "bcf04ebb",
   "metadata": {},
   "outputs": [
    {
     "data": {
      "text/plain": [
       "Text(0.5, 1.0, 'ACTUAL AND PREDICT YOUTUBE SUBSCRIBERS FOR TOP 4th CHANNEL(VALIDATION)')"
      ]
     },
     "execution_count": 106,
     "metadata": {},
     "output_type": "execute_result"
    },
    {
     "data": {
      "image/png": "[encoded data removed]",
      "text/plain": [
       "<Figure size 864x648 with 1 Axes>"
      ]
     },
     "metadata": {},
     "output_type": "display_data"
    }
   ],
   "source": [
    "plt.figure(figsize = [12,9])\n",
    "plt.scatter(df_cv[4].y,df_cv[4].yhat,c=\"black\")\n",
    "\n",
    "x_plt_range = [df_cv[4].y.min(),df_cv[4].y.max()]\n",
    "y_plt_range = [df_cv[4].yhat.min(),df_cv[4].yhat.max()]\n",
    "    \n",
    "plt.plot(x_plt_range,y_plt_range,c=\"r\")\n",
    "    \n",
    "\n",
    "plt.xticks([1000000, 2000000, 3000000, 4000000, 5000000, 6000000, \n",
    "7000000, 8000000, 9000000, 10000000],\n",
    "[\"1M\", \"2M\", \"3M\", \"4M\", \"5M\", \"6M\", \n",
    "\"7M\", \"8M\", \"9M\", \"10M\"])\n",
    "plt.yticks([1000000, 2000000, 3000000, 4000000, 5000000, 6000000, \n",
    "7000000, 8000000, 9000000, 10000000,11000000],\n",
    "[\"1M\", \"2M\", \"3M\", \"4M\", \"5M\", \"6M\", \n",
    "\"7M\", \"8M\", \"9M\", \"10M\",\"11M\"])\n",
    "\n",
    "\n",
    "\n",
    "plt.grid()\n",
    "sns.set_style(\"white\")\n",
    "plt.xlabel(\"ACTUAL \",fontsize = 17, weight = 'bold')\n",
    "plt.ylabel('PREDICT',fontsize = 17, weight = 'bold')\n",
    "plt.title(\"ACTUAL AND PREDICT YOUTUBE SUBSCRIBERS FOR TOP 4th CHANNEL(VALIDATION)\",fontsize = 20, weight = 'bold')"
   ]
  },
  {
   "cell_type": "markdown",
   "id": "9998272f",
   "metadata": {},
   "source": [
    "## Training Plots"
   ]
  },
  {
   "cell_type": "code",
   "execution_count": 42,
   "id": "4ca23a4f",
   "metadata": {},
   "outputs": [
    {
     "name": "stdout",
     "output_type": "stream",
     "text": [
      "0.9987670762148646\n",
      "0.99928507964654\n",
      "0.9997238393975183\n",
      "0.9998454796385761\n",
      "0.9990587666544882\n"
     ]
    },
    {
     "data": {
      "image/png": "[encoded data removed]",
      "text/plain": [
       "<Figure size 432x288 with 1 Axes>"
      ]
     },
     "metadata": {
      "needs_background": "light"
     },
     "output_type": "display_data"
    },
    {
     "data": {
      "image/png": "[encoded data removed]",
      "text/plain": [
       "<Figure size 432x288 with 1 Axes>"
      ]
     },
     "metadata": {
      "needs_background": "light"
     },
     "output_type": "display_data"
    },
    {
     "data": {
      "image/png": "[encoded data removed]",
      "text/plain": [
       "<Figure size 432x288 with 1 Axes>"
      ]
     },
     "metadata": {
      "needs_background": "light"
     },
     "output_type": "display_data"
    },
    {
     "data": {
      "image/png": "[encoded data removed]",
      "text/plain": [
       "<Figure size 432x288 with 1 Axes>"
      ]
     },
     "metadata": {
      "needs_background": "light"
     },
     "output_type": "display_data"
    },
    {
     "data": {
      "image/png": "[encoded data removed]",
      "text/plain": [
       "<Figure size 432x288 with 1 Axes>"
      ]
     },
     "metadata": {
      "needs_background": "light"
     },
     "output_type": "display_data"
    },
    {
     "data": {
      "text/plain": [
       "<Figure size 432x288 with 0 Axes>"
      ]
     },
     "metadata": {},
     "output_type": "display_data"
    }
   ],
   "source": [
    "for y_yhat in ys_yhats:\n",
    "    print(r2_score(y_yhat[\"y\"],y_yhat[\"yhat\"]))\n",
    "    plt.scatter(y_yhat[\"y\"],y_yhat[\"yhat\"])\n",
    "    x_plt_range = [y_yhat[\"y\"].min(),y_yhat[\"y\"].max()]\n",
    "    y_plt_range = [y_yhat[\"yhat\"].min(),y_yhat[\"yhat\"].max()]\n",
    "    plt.plot(x_plt_range,y_plt_range,c=\"r\")\n",
    "    plt.figure()\n",
    "    "
   ]
  },
  {
   "cell_type": "code",
   "execution_count": 108,
   "id": "2a0b0b44",
   "metadata": {},
   "outputs": [
    {
     "data": {
      "text/plain": [
       "Text(0.5, 1.0, 'ACTUAL AND PREDICT YOUTUBE SUBSCRIBERS FOR TOP 4th CHANNEL(TRAIN)')"
      ]
     },
     "execution_count": 108,
     "metadata": {},
     "output_type": "execute_result"
    },
    {
     "data": {
      "image/png": "[encoded data removed]",
      "text/plain": [
       "<Figure size 864x648 with 1 Axes>"
      ]
     },
     "metadata": {},
     "output_type": "display_data"
    }
   ],
   "source": [
    "plt.figure(figsize = [12,9])\n",
    "plt.scatter(y_yhat[\"y\"],y_yhat[\"yhat\"],c=\"black\")\n",
    "x_plt_range = [y_yhat[\"y\"].min(),y_yhat[\"y\"].max()]\n",
    "y_plt_range = [y_yhat[\"yhat\"].min(),y_yhat[\"yhat\"].max()]\n",
    "plt.plot(x_plt_range,y_plt_range,c=\"r\")\n",
    "\n",
    "plt.xticks([1000000, 2000000, 3000000, 4000000, 5000000, 6000000, \n",
    "7000000, 8000000, 9000000, 10000000],\n",
    "[\"1M\", \"2M\", \"3M\", \"4M\", \"5M\", \"6M\", \n",
    "\"7M\", \"8M\", \"9M\", \"10M\"])\n",
    "plt.yticks([1000000, 2000000, 3000000, 4000000, 5000000, 6000000, \n",
    "7000000, 8000000, 9000000, 10000000,11000000],\n",
    "[\"1M\", \"2M\", \"3M\", \"4M\", \"5M\", \"6M\", \n",
    "\"7M\", \"8M\", \"9M\", \"10M\",\"11M\"])\n",
    "\n",
    "plt.grid()\n",
    "sns.set_style(\"white\")\n",
    "plt.xlabel(\"ACTUAL \",fontsize = 17, weight = 'bold')\n",
    "plt.ylabel('PREDICT',fontsize = 17, weight = 'bold')\n",
    "plt.title(\"ACTUAL AND PREDICT YOUTUBE SUBSCRIBERS FOR TOP 4th CHANNEL(TRAIN)\",fontsize = 20, weight = 'bold')"
   ]
  },
  {
   "cell_type": "code",
   "execution_count": null,
   "id": "c83cbfab",
   "metadata": {},
   "outputs": [],
   "source": [
    "# tss = TimeSeriesSplit()\n",
    "# for tarin,val in tss.split(X_y):\n",
    "md = Prophet()\n",
    "md.fit(X_y)"
   ]
  },
  {
   "cell_type": "code",
   "execution_count": null,
   "id": "d45a7116",
   "metadata": {},
   "outputs": [],
   "source": [
    "# for train,val in kf:\n",
    "#     print(\"train Range:\",min(train),max(train),\"val Range:\",min(val),max(val))\n",
    "X_y.ds"
   ]
  },
  {
   "cell_type": "code",
   "execution_count": null,
   "id": "b65a4d25",
   "metadata": {},
   "outputs": [],
   "source": [
    "df_cv = cross_validation(md,initial='730 days', period='100 days', horizon = '200 days')"
   ]
  },
  {
   "cell_type": "code",
   "execution_count": null,
   "id": "c6cca20f",
   "metadata": {},
   "outputs": [],
   "source": [
    "df_cv"
   ]
  },
  {
   "cell_type": "code",
   "execution_count": null,
   "id": "f366a231",
   "metadata": {},
   "outputs": [],
   "source": [
    "import matplotlib.pyplot as plt"
   ]
  },
  {
   "cell_type": "code",
   "execution_count": null,
   "id": "5d423bdf",
   "metadata": {},
   "outputs": [],
   "source": [
    "plt.scatter(df_cv.y,df_cv.yhat)\n",
    "plt.plot([0.7e7,2.2e7],[0.7e7,2.2e7],c=\"r\")"
   ]
  },
  {
   "cell_type": "code",
   "execution_count": null,
   "id": "15b69034",
   "metadata": {},
   "outputs": [],
   "source": [
    "r2_score(df_cv.y,df_cv.yhat)"
   ]
  },
  {
   "cell_type": "code",
   "execution_count": null,
   "id": "70541c75",
   "metadata": {},
   "outputs": [],
   "source": [
    "df_p = performance_metrics(df_cv)\n",
    "df_p"
   ]
  },
  {
   "cell_type": "code",
   "execution_count": null,
   "id": "b70c9e7b",
   "metadata": {},
   "outputs": [],
   "source": [
    "fig = plot_cross_validation_metric(df_cv, metric='mae')"
   ]
  },
  {
   "cell_type": "code",
   "execution_count": null,
   "id": "4472ea97",
   "metadata": {},
   "outputs": [],
   "source": [
    "future = md.make_future_dataframe(periods=365)"
   ]
  },
  {
   "cell_type": "code",
   "execution_count": null,
   "id": "a6b9cb97",
   "metadata": {},
   "outputs": [],
   "source": [
    "future"
   ]
  },
  {
   "cell_type": "code",
   "execution_count": null,
   "id": "cac4f05e",
   "metadata": {},
   "outputs": [],
   "source": [
    "forecast = md.predict(future)"
   ]
  },
  {
   "cell_type": "code",
   "execution_count": null,
   "id": "2deddf8e",
   "metadata": {
    "scrolled": true
   },
   "outputs": [],
   "source": [
    "forecast[['ds', 'yhat', 'yhat_lower', 'yhat_upper']].tail()"
   ]
  },
  {
   "cell_type": "code",
   "execution_count": null,
   "id": "be867ce9",
   "metadata": {
    "scrolled": true
   },
   "outputs": [],
   "source": [
    " md.plot_components(forecast)"
   ]
  },
  {
   "cell_type": "code",
   "execution_count": null,
   "id": "69fd589e",
   "metadata": {},
   "outputs": [],
   "source": [
    "y_yhat = top1_m.merge(forecast[[\"ds\",\"yhat\"]],left_on=\"Date\",right_on=\"ds\")\n",
    "r2_score(y_yhat[\"TotalVideoViews\"],y_yhat[\"yhat\"])"
   ]
  },
  {
   "cell_type": "code",
   "execution_count": null,
   "id": "e144a783",
   "metadata": {},
   "outputs": [],
   "source": [
    "r2_score()"
   ]
  },
  {
   "cell_type": "code",
   "execution_count": null,
   "id": "f0633d8b",
   "metadata": {},
   "outputs": [],
   "source": [
    "df1[(df1[\"Weekly Subscribers Gained\"] == 100000)]"
   ]
  },
  {
   "cell_type": "markdown",
   "id": "4d12555a",
   "metadata": {},
   "source": [
    "# needs to check it \n"
   ]
  },
  {
   "cell_type": "code",
   "execution_count": null,
   "id": "9cfb18a5",
   "metadata": {},
   "outputs": [],
   "source": [
    "with open('req0.html') as page:\n",
    "    html = page.read()\n",
    "soup = BeautifulSoup(html, 'lxml')"
   ]
  },
  {
   "cell_type": "code",
   "execution_count": null,
   "id": "b3c08f20",
   "metadata": {},
   "outputs": [],
   "source": [
    "#print(soup.prettify())"
   ]
  },
  {
   "cell_type": "code",
   "execution_count": null,
   "id": "b1f6bcbc",
   "metadata": {},
   "outputs": [],
   "source": [
    "# up_string = soup.find_all(text=re.compile('Up'))\n",
    "# up_string"
   ]
  },
  {
   "cell_type": "code",
   "execution_count": null,
   "id": "f391d73a",
   "metadata": {
    "scrolled": true
   },
   "outputs": [],
   "source": [
    "# rows = [row for row in soup.find_all(\"span\",class_=\"YouTubeUserTopLight\")]\n",
    "# rows"
   ]
  },
  {
   "cell_type": "code",
   "execution_count": null,
   "id": "7d3a533e",
   "metadata": {},
   "outputs": [],
   "source": [
    "# soup.find_all(\"span\",class_=\"YouTubeUserTopLight\")[0].text"
   ]
  },
  {
   "cell_type": "code",
   "execution_count": null,
   "id": "4b82022e",
   "metadata": {},
   "outputs": [],
   "source": [
    "# rows = [row for row in soup.find_all(\"span\",style=\"font-weight: bold;\")] \n",
    "# rows[0:6]"
   ]
  },
  {
   "cell_type": "code",
   "execution_count": null,
   "id": "317971ca",
   "metadata": {},
   "outputs": [],
   "source": [
    "list_columns=[]\n",
    "for i in soup.find_all(\"span\",class_=\"YouTubeUserTopLight\"):\n",
    "        list_columns.append(i.get_text())\n",
    "print(list_columns)"
   ]
  },
  {
   "cell_type": "code",
   "execution_count": null,
   "id": "b47ca2a0",
   "metadata": {},
   "outputs": [],
   "source": [
    "list_req0=[]\n",
    "for i in soup.find_all(\"span\",style=\"font-weight: bold;\"):\n",
    "        list_req0.append(i.get_text())\n",
    "print(list_req0)"
   ]
  },
  {
   "cell_type": "code",
   "execution_count": null,
   "id": "f06a4671",
   "metadata": {},
   "outputs": [],
   "source": []
  },
  {
   "cell_type": "code",
   "execution_count": null,
   "id": "3a46febe",
   "metadata": {},
   "outputs": [],
   "source": []
  },
  {
   "cell_type": "code",
   "execution_count": null,
   "id": "cad48a63",
   "metadata": {},
   "outputs": [],
   "source": []
  }
 ],
 "metadata": {
  "kernelspec": {
   "display_name": "Python 3",
   "language": "python",
   "name": "python3"
  },
  "language_info": {
   "codemirror_mode": {
    "name": "ipython",
    "version": 3
   },
   "file_extension": ".py",
   "mimetype": "text/x-python",
   "name": "python",
   "nbconvert_exporter": "python",
   "pygments_lexer": "ipython3",
   "version": "3.8.8"
  }
 },
 "nbformat": 4,
 "nbformat_minor": 5
}
